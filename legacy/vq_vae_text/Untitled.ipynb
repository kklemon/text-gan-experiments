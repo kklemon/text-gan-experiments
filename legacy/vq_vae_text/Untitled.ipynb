{
 "cells": [
  {
   "cell_type": "code",
   "execution_count": 1,
   "metadata": {},
   "outputs": [],
   "source": [
    "import math\n",
    "import random\n",
    "import pickle\n",
    "import itertools\n",
    "import youtokentome as yttm\n",
    "import matplotlib.pyplot as plt\n",
    "\n",
    "from pathlib import Path\n",
    "from unidecode import unidecode\n",
    "from collections import Counter"
   ]
  },
  {
   "cell_type": "markdown",
   "metadata": {},
   "source": [
    "# Combine 1B words into a single file"
   ]
  },
  {
   "cell_type": "code",
   "execution_count": 2,
   "metadata": {},
   "outputs": [],
   "source": [
    "root = Path('/home/kris/data/text/1-billion-word-language-modeling-benchmark-r13output')\n",
    "\n",
    "train_data = list((root / 'training-monolingual.tokenized.shuffled').glob('*'))\n",
    "test_data = list((root / 'heldout-monolingual.tokenized.shuffled').glob('*'))\n",
    "\n",
    "lower_case = True"
   ]
  },
  {
   "cell_type": "code",
   "execution_count": 3,
   "metadata": {},
   "outputs": [],
   "source": [
    "def combine_files(files):\n",
    "    samples = []\n",
    "    for file in files:\n",
    "        for line in [line.strip() for line in file.read_text().split('\\n') if line.strip()]:\n",
    "            line = unidecode(line)\n",
    "            if lower_case:\n",
    "                line = line.lower()\n",
    "            samples.append(line)\n",
    "    return samples"
   ]
  },
  {
   "cell_type": "code",
   "execution_count": 4,
   "metadata": {},
   "outputs": [],
   "source": [
    "train_save_path = root / 'train.txt'\n",
    "test_save_path = root / 'test.txt'\n",
    "\n",
    "train_samples = combine_files(train_data)\n",
    "test_samples = combine_files(test_data)"
   ]
  },
  {
   "cell_type": "code",
   "execution_count": 5,
   "metadata": {},
   "outputs": [
    {
     "name": "stdout",
     "output_type": "stream",
     "text": [
      "Num train samples: 30301028\n",
      "Num test samples: 613376\n"
     ]
    }
   ],
   "source": [
    "print(f'Num train samples: {len(train_samples)}')\n",
    "print(f'Num test samples: {len(test_samples)}')"
   ]
  },
  {
   "cell_type": "code",
   "execution_count": 6,
   "metadata": {},
   "outputs": [
    {
     "data": {
      "text/plain": [
       "84032399"
      ]
     },
     "execution_count": 6,
     "metadata": {},
     "output_type": "execute_result"
    }
   ],
   "source": [
    "train_save_path.write_text('\\n'.join(train_samples))\n",
    "test_save_path.write_text('\\n'.join(test_samples))"
   ]
  },
  {
   "cell_type": "code",
   "execution_count": 7,
   "metadata": {},
   "outputs": [
    {
     "name": "stdout",
     "output_type": "stream",
     "text": [
      "Number of unique characters: 69\n"
     ]
    }
   ],
   "source": [
    "print(f'Number of unique characters: {len(set(itertools.chain.from_iterable(train_samples)))}')"
   ]
  },
  {
   "cell_type": "markdown",
   "metadata": {},
   "source": [
    "# Train BPE model"
   ]
  },
  {
   "cell_type": "code",
   "execution_count": 8,
   "metadata": {},
   "outputs": [],
   "source": [
    "vocab_size = 2**10\n",
    "\n",
    "model_path = root / f'bpe_model_10b{\"_lower\" if lower_case else \"\"}.p'\n",
    "\n",
    "bpe = yttm.BPE.train(data=str(train_save_path), vocab_size=vocab_size, model=str(model_path))"
   ]
  },
  {
   "cell_type": "code",
   "execution_count": 9,
   "metadata": {},
   "outputs": [],
   "source": [
    "train_encoded = bpe.encode(train_samples, eos=True)\n",
    "test_encoded = bpe.encode(test_samples, eos=True)"
   ]
  },
  {
   "cell_type": "markdown",
   "metadata": {},
   "source": [
    "## Compute entropy"
   ]
  },
  {
   "cell_type": "code",
   "execution_count": 10,
   "metadata": {},
   "outputs": [],
   "source": [
    "def compute_entropy(symbols):\n",
    "    counter = Counter(symbols)\n",
    "    probs = list(map(lambda x: x / sum(counter), counter))\n",
    "    return -sum([p * math.log2(p) for p in probs if p])"
   ]
  },
  {
   "cell_type": "code",
   "execution_count": 11,
   "metadata": {},
   "outputs": [
    {
     "name": "stdout",
     "output_type": "stream",
     "text": [
      "Optimal entropy: 10.0\n",
      "Training set entropy: 9.7188\n",
      "Test set entropy: 9.7172\n"
     ]
    }
   ],
   "source": [
    "print(f'Optimal entropy: {math.log2(vocab_size)}')\n",
    "print(f'Training set entropy: {compute_entropy(itertools.chain.from_iterable(train_encoded)):.4f}')\n",
    "print(f'Test set entropy: {compute_entropy(itertools.chain.from_iterable(test_encoded)):.4f}')"
   ]
  },
  {
   "cell_type": "markdown",
   "metadata": {},
   "source": [
    "# Create smaller dataset"
   ]
  },
  {
   "cell_type": "code",
   "execution_count": 13,
   "metadata": {},
   "outputs": [
    {
     "data": {
      "image/png": "[encoded data removed]",
      "text/plain": [
       "<Figure size 432x288 with 1 Axes>"
      ]
     },
     "metadata": {
      "needs_background": "light"
     },
     "output_type": "display_data"
    }
   ],
   "source": [
    "lengths = list(map(len, train_encoded))\n",
    "\n",
    "plt.hist(lengths, bins=100, range=(1, 100))\n",
    "plt.show()"
   ]
  },
  {
   "cell_type": "code",
   "execution_count": 20,
   "metadata": {},
   "outputs": [],
   "source": [
    "min_len = 32\n",
    "max_len = 64\n",
    "\n",
    "max_train_samples = 250_000\n",
    "max_test_samples = 10_000\n",
    "\n",
    "postfix = '250k_10b'\n",
    "\n",
    "filter_cond = lambda x: min_len <= len(x) <= max_len"
   ]
  },
  {
   "cell_type": "code",
   "execution_count": 21,
   "metadata": {},
   "outputs": [],
   "source": [
    "def create_subset(samples, filter_cond, max_samples, shuffle=True):\n",
    "    samples_by_id = [(i, sample) for i, sample in enumerate(samples)]\n",
    "    filtered = list(filter(lambda pair: filter_cond(pair[1]), samples_by_id))\n",
    "    if shuffle:\n",
    "        random.shuffle(filtered)\n",
    "    return list(zip(*filtered[:max_samples]))[0]"
   ]
  },
  {
   "cell_type": "code",
   "execution_count": 22,
   "metadata": {},
   "outputs": [],
   "source": [
    "train_subset_ids = create_subset(train_encoded, filter_cond, max_train_samples)\n",
    "test_subset_ids = create_subset(test_encoded, filter_cond, max_test_samples)"
   ]
  },
  {
   "cell_type": "code",
   "execution_count": 23,
   "metadata": {},
   "outputs": [
    {
     "name": "stdout",
     "output_type": "stream",
     "text": [
      "Final number of training subsamples: 250000\n",
      "Final number of test subsamples: 10000\n"
     ]
    }
   ],
   "source": [
    "print(f'Final number of training subsamples: {len(train_subset_ids)}')\n",
    "print(f'Final number of test subsamples: {len(test_subset_ids)}')"
   ]
  },
  {
   "cell_type": "code",
   "execution_count": 24,
   "metadata": {},
   "outputs": [],
   "source": [
    "def save_subset(save_path, samples, subset_ids, bpe_path):\n",
    "    save_path.write_bytes(\n",
    "        pickle.dumps(dict(\n",
    "            bpe_path=str(bpe_path),\n",
    "            samples=[samples[idx] for idx in subset_ids],\n",
    "            seq_length=max_len\n",
    "        ))\n",
    "    )"
   ]
  },
  {
   "cell_type": "code",
   "execution_count": 25,
   "metadata": {},
   "outputs": [],
   "source": [
    "save_subset(root / f'train_{postfix}.p', train_encoded, train_subset_ids, model_path)\n",
    "save_subset(root / f'test_{postfix}.p', test_encoded, test_subset_ids, model_path)"
   ]
  },
  {
   "cell_type": "code",
   "execution_count": null,
   "metadata": {},
   "outputs": [],
   "source": []
  }
 ],
 "metadata": {
  "kernelspec": {
   "display_name": "Python 3",
   "language": "python",
   "name": "python3"
  },
  "language_info": {
   "codemirror_mode": {
    "name": "ipython",
    "version": 3
   },
   "file_extension": ".py",
   "mimetype": "text/x-python",
   "name": "python",
   "nbconvert_exporter": "python",
   "pygments_lexer": "ipython3",
   "version": "3.7.4"
  }
 },
 "nbformat": 4,
 "nbformat_minor": 4
}
