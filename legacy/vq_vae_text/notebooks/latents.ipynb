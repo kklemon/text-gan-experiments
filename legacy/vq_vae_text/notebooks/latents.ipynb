{
 "cells": [
  {
   "cell_type": "code",
   "execution_count": 2,
   "metadata": {
    "collapsed": false,
    "jupyter": {
     "outputs_hidden": false
    },
    "pycharm": {
     "is_executing": false,
     "name": "#%%\n"
    }
   },
   "outputs": [],
   "source": [
    "import torch\n",
    "\n",
    "from vq_vae_text.datasets import LMDBDataset, ByteLevelTextDataset"
   ]
  },
  {
   "cell_type": "code",
   "execution_count": 53,
   "metadata": {
    "collapsed": false,
    "jupyter": {
     "outputs_hidden": false
    },
    "pycharm": {
     "is_executing": false,
     "name": "#%%\n"
    }
   },
   "outputs": [
    {
     "name": "stderr",
     "output_type": "stream",
     "text": [
      "/home/kris/miniconda3/lib/python3.7/site-packages/torch/serialization.py:657: SourceChangeWarning: source code of class 'vq_vae_text.models.textcnnv2.Decoder' has changed. you can retrieve the original source code by accessing the object's source attribute or set `torch.nn.Module.dump_patches = True` and use the patch tool to revert the changes.\n",
      "  warnings.warn(msg, SourceChangeWarning)\n"
     ]
    }
   ],
   "source": [
    "s1 = torch.load('../results/textcnn-ref-2/checkpoints/model_3.pth').cpu()\n",
    "s2 = torch.load('../results/2020-04-14_22-18-18-textcnnV2/checkpoints/model_0.pth').cpu()"
   ]
  },
  {
   "cell_type": "code",
   "execution_count": 54,
   "metadata": {
    "collapsed": false,
    "jupyter": {
     "outputs_hidden": false
    },
    "pycharm": {
     "is_executing": false,
     "name": "#%%\n"
    }
   },
   "outputs": [
    {
     "name": "stdout",
     "output_type": "stream",
     "text": [
      "Using cached file .cache/da19f7d126ad83037dfa74cbb07e335086df0b2d8f75d7ffa6dc1887a76eaa1a.p\n"
     ]
    }
   ],
   "source": [
    "text_data = ByteLevelTextDataset('/home/kris/data/text/sent-grams/splits/uniform/bigrams/small/test.txt', 256)\n",
    "\n",
    "batch = torch.stack([text_data[i] for i in range(16)])"
   ]
  },
  {
   "cell_type": "code",
   "execution_count": 55,
   "metadata": {
    "collapsed": false,
    "jupyter": {
     "outputs_hidden": false
    },
    "pycharm": {
     "is_executing": false,
     "name": "#%%\n"
    }
   },
   "outputs": [
    {
     "ename": "RuntimeError",
     "evalue": "Given transposed=1, weight of size [256, 256, 4], expected input[16, 4, 16] to have 256 channels, but got 4 channels instead",
     "output_type": "error",
     "traceback": [
      "\u001b[0;31m---------------------------------------------------------------------------\u001b[0m",
      "\u001b[0;31mRuntimeError\u001b[0m                              Traceback (most recent call last)",
      "\u001b[0;32m<ipython-input-55-b95e57d6887a>\u001b[0m in \u001b[0;36m<module>\u001b[0;34m\u001b[0m\n\u001b[1;32m      2\u001b[0m \u001b[0mz\u001b[0m\u001b[0;34m,\u001b[0m \u001b[0mdiff\u001b[0m\u001b[0;34m,\u001b[0m \u001b[0mlat2\u001b[0m \u001b[0;34m=\u001b[0m \u001b[0ms2\u001b[0m\u001b[0;34m.\u001b[0m\u001b[0mencode\u001b[0m\u001b[0;34m(\u001b[0m\u001b[0mlat1\u001b[0m\u001b[0;34m)\u001b[0m\u001b[0;34m\u001b[0m\u001b[0;34m\u001b[0m\u001b[0m\n\u001b[1;32m      3\u001b[0m \u001b[0;34m\u001b[0m\u001b[0m\n\u001b[0;32m----> 4\u001b[0;31m \u001b[0mlat2_dec\u001b[0m \u001b[0;34m=\u001b[0m \u001b[0ms2\u001b[0m\u001b[0;34m.\u001b[0m\u001b[0mdecode_codes\u001b[0m\u001b[0;34m(\u001b[0m\u001b[0mlat2\u001b[0m\u001b[0;34m)\u001b[0m\u001b[0;34m.\u001b[0m\u001b[0margmax\u001b[0m\u001b[0;34m(\u001b[0m\u001b[0;34m-\u001b[0m\u001b[0;36m1\u001b[0m\u001b[0;34m)\u001b[0m\u001b[0;34m\u001b[0m\u001b[0;34m\u001b[0m\u001b[0m\n\u001b[0m\u001b[1;32m      5\u001b[0m \u001b[0mlat1_dec\u001b[0m \u001b[0;34m=\u001b[0m \u001b[0ms1\u001b[0m\u001b[0;34m.\u001b[0m\u001b[0mdecode_codes\u001b[0m\u001b[0;34m(\u001b[0m\u001b[0mlat2_dec\u001b[0m\u001b[0;34m)\u001b[0m\u001b[0;34m.\u001b[0m\u001b[0margmax\u001b[0m\u001b[0;34m(\u001b[0m\u001b[0;34m-\u001b[0m\u001b[0;36m1\u001b[0m\u001b[0;34m)\u001b[0m\u001b[0;34m\u001b[0m\u001b[0;34m\u001b[0m\u001b[0m\n",
      "\u001b[0;32m~/git/vq_vae_text/vq_vae_text/models/textcnnv2.py\u001b[0m in \u001b[0;36mdecode_codes\u001b[0;34m(self, code)\u001b[0m\n\u001b[1;32m    204\u001b[0m         \u001b[0;31m#self.encode_to_quants = nn.Conv1d(num_channels[-1] * 2, vq_embeds_dim, kernel_size=1)\u001b[0m\u001b[0;34m\u001b[0m\u001b[0;34m\u001b[0m\u001b[0;34m\u001b[0m\u001b[0m\n\u001b[1;32m    205\u001b[0m         \u001b[0;31m#self.quants_to_decode = nn.Conv1d(vq_embeds_dim, num_channels[-1] * 2, kernel_size=1)\u001b[0m\u001b[0;34m\u001b[0m\u001b[0;34m\u001b[0m\u001b[0;34m\u001b[0m\u001b[0m\n\u001b[0;32m--> 206\u001b[0;31m \u001b[0;34m\u001b[0m\u001b[0m\n\u001b[0m\u001b[1;32m    207\u001b[0m         \u001b[0mself\u001b[0m\u001b[0;34m.\u001b[0m\u001b[0mencoder\u001b[0m \u001b[0;34m=\u001b[0m \u001b[0mEncoder\u001b[0m\u001b[0;34m(\u001b[0m\u001b[0membed_dim\u001b[0m\u001b[0;34m,\u001b[0m \u001b[0mchannel\u001b[0m\u001b[0;34m,\u001b[0m \u001b[0mvq_embeds_dim\u001b[0m\u001b[0;34m,\u001b[0m \u001b[0mres_channel\u001b[0m\u001b[0;34m,\u001b[0m \u001b[0mn_res_blocks\u001b[0m\u001b[0;34m)\u001b[0m\u001b[0;34m\u001b[0m\u001b[0;34m\u001b[0m\u001b[0m\n\u001b[1;32m    208\u001b[0m         \u001b[0mself\u001b[0m\u001b[0;34m.\u001b[0m\u001b[0mdecoder\u001b[0m \u001b[0;34m=\u001b[0m \u001b[0mDecoder\u001b[0m\u001b[0;34m(\u001b[0m\u001b[0mvq_embeds_dim\u001b[0m\u001b[0;34m,\u001b[0m \u001b[0mchannel\u001b[0m\u001b[0;34m,\u001b[0m \u001b[0mvocab_size\u001b[0m\u001b[0;34m,\u001b[0m \u001b[0mres_channel\u001b[0m\u001b[0;34m,\u001b[0m \u001b[0mn_res_blocks\u001b[0m\u001b[0;34m)\u001b[0m\u001b[0;34m\u001b[0m\u001b[0;34m\u001b[0m\u001b[0m\n",
      "\u001b[0;32m~/git/vq_vae_text/vq_vae_text/models/textcnnv2.py\u001b[0m in \u001b[0;36mdecode\u001b[0;34m(self, z)\u001b[0m\n\u001b[1;32m    194\u001b[0m \u001b[0;34m\u001b[0m\u001b[0m\n\u001b[1;32m    195\u001b[0m         \u001b[0mself\u001b[0m\u001b[0;34m.\u001b[0m\u001b[0minput_noise\u001b[0m \u001b[0;34m=\u001b[0m \u001b[0mCategoricalNoise\u001b[0m\u001b[0;34m(\u001b[0m\u001b[0mvocab_size\u001b[0m\u001b[0;34m,\u001b[0m \u001b[0minput_noise\u001b[0m\u001b[0;34m)\u001b[0m\u001b[0;34m\u001b[0m\u001b[0;34m\u001b[0m\u001b[0m\n\u001b[0;32m--> 196\u001b[0;31m         \u001b[0mself\u001b[0m\u001b[0;34m.\u001b[0m\u001b[0membed_dropout\u001b[0m \u001b[0;34m=\u001b[0m \u001b[0mnn\u001b[0m\u001b[0;34m.\u001b[0m\u001b[0mDropout\u001b[0m\u001b[0;34m(\u001b[0m\u001b[0membed_dropout\u001b[0m\u001b[0;34m)\u001b[0m\u001b[0;34m\u001b[0m\u001b[0;34m\u001b[0m\u001b[0m\n\u001b[0m\u001b[1;32m    197\u001b[0m \u001b[0;34m\u001b[0m\u001b[0m\n\u001b[1;32m    198\u001b[0m         \u001b[0mself\u001b[0m\u001b[0;34m.\u001b[0m\u001b[0membed\u001b[0m \u001b[0;34m=\u001b[0m \u001b[0mnn\u001b[0m\u001b[0;34m.\u001b[0m\u001b[0mEmbedding\u001b[0m\u001b[0;34m(\u001b[0m\u001b[0mvocab_size\u001b[0m\u001b[0;34m,\u001b[0m \u001b[0membed_dim\u001b[0m\u001b[0;34m,\u001b[0m \u001b[0mpadding_idx\u001b[0m\u001b[0;34m=\u001b[0m\u001b[0mpad_idx\u001b[0m\u001b[0;34m,\u001b[0m \u001b[0mmax_norm\u001b[0m\u001b[0;34m=\u001b[0m\u001b[0;36m1.0\u001b[0m\u001b[0;34m)\u001b[0m\u001b[0;34m\u001b[0m\u001b[0;34m\u001b[0m\u001b[0m\n",
      "\u001b[0;32m~/miniconda3/lib/python3.7/site-packages/torch/nn/modules/module.py\u001b[0m in \u001b[0;36m__call__\u001b[0;34m(self, *input, **kwargs)\u001b[0m\n\u001b[1;32m    556\u001b[0m             \u001b[0mresult\u001b[0m \u001b[0;34m=\u001b[0m \u001b[0mself\u001b[0m\u001b[0;34m.\u001b[0m\u001b[0m_slow_forward\u001b[0m\u001b[0;34m(\u001b[0m\u001b[0;34m*\u001b[0m\u001b[0minput\u001b[0m\u001b[0;34m,\u001b[0m \u001b[0;34m**\u001b[0m\u001b[0mkwargs\u001b[0m\u001b[0;34m)\u001b[0m\u001b[0;34m\u001b[0m\u001b[0;34m\u001b[0m\u001b[0m\n\u001b[1;32m    557\u001b[0m         \u001b[0;32melse\u001b[0m\u001b[0;34m:\u001b[0m\u001b[0;34m\u001b[0m\u001b[0;34m\u001b[0m\u001b[0m\n\u001b[0;32m--> 558\u001b[0;31m             \u001b[0mresult\u001b[0m \u001b[0;34m=\u001b[0m \u001b[0mself\u001b[0m\u001b[0;34m.\u001b[0m\u001b[0mforward\u001b[0m\u001b[0;34m(\u001b[0m\u001b[0;34m*\u001b[0m\u001b[0minput\u001b[0m\u001b[0;34m,\u001b[0m \u001b[0;34m**\u001b[0m\u001b[0mkwargs\u001b[0m\u001b[0;34m)\u001b[0m\u001b[0;34m\u001b[0m\u001b[0;34m\u001b[0m\u001b[0m\n\u001b[0m\u001b[1;32m    559\u001b[0m         \u001b[0;32mfor\u001b[0m \u001b[0mhook\u001b[0m \u001b[0;32min\u001b[0m \u001b[0mself\u001b[0m\u001b[0;34m.\u001b[0m\u001b[0m_forward_hooks\u001b[0m\u001b[0;34m.\u001b[0m\u001b[0mvalues\u001b[0m\u001b[0;34m(\u001b[0m\u001b[0;34m)\u001b[0m\u001b[0;34m:\u001b[0m\u001b[0;34m\u001b[0m\u001b[0;34m\u001b[0m\u001b[0m\n\u001b[1;32m    560\u001b[0m             \u001b[0mhook_result\u001b[0m \u001b[0;34m=\u001b[0m \u001b[0mhook\u001b[0m\u001b[0;34m(\u001b[0m\u001b[0mself\u001b[0m\u001b[0;34m,\u001b[0m \u001b[0minput\u001b[0m\u001b[0;34m,\u001b[0m \u001b[0mresult\u001b[0m\u001b[0;34m)\u001b[0m\u001b[0;34m\u001b[0m\u001b[0;34m\u001b[0m\u001b[0m\n",
      "\u001b[0;32m~/git/vq_vae_text/vq_vae_text/models/textcnnv2.py\u001b[0m in \u001b[0;36mforward\u001b[0;34m(self, input)\u001b[0m\n\u001b[1;32m    106\u001b[0m \u001b[0;31m#\u001b[0m\u001b[0;34m\u001b[0m\u001b[0;34m\u001b[0m\u001b[0;34m\u001b[0m\u001b[0m\n\u001b[1;32m    107\u001b[0m \u001b[0;31m#         self.blocks = nn.Sequential(*blocks)\u001b[0m\u001b[0;34m\u001b[0m\u001b[0;34m\u001b[0m\u001b[0;34m\u001b[0m\u001b[0m\n\u001b[0;32m--> 108\u001b[0;31m \u001b[0;31m#\u001b[0m\u001b[0;34m\u001b[0m\u001b[0;34m\u001b[0m\u001b[0;34m\u001b[0m\u001b[0m\n\u001b[0m\u001b[1;32m    109\u001b[0m \u001b[0;31m#     def forward(self, input):\u001b[0m\u001b[0;34m\u001b[0m\u001b[0;34m\u001b[0m\u001b[0;34m\u001b[0m\u001b[0m\n\u001b[1;32m    110\u001b[0m \u001b[0;31m#         return self.blocks(input)\u001b[0m\u001b[0;34m\u001b[0m\u001b[0;34m\u001b[0m\u001b[0;34m\u001b[0m\u001b[0m\n",
      "\u001b[0;32m~/miniconda3/lib/python3.7/site-packages/torch/nn/modules/module.py\u001b[0m in \u001b[0;36m__call__\u001b[0;34m(self, *input, **kwargs)\u001b[0m\n\u001b[1;32m    556\u001b[0m             \u001b[0mresult\u001b[0m \u001b[0;34m=\u001b[0m \u001b[0mself\u001b[0m\u001b[0;34m.\u001b[0m\u001b[0m_slow_forward\u001b[0m\u001b[0;34m(\u001b[0m\u001b[0;34m*\u001b[0m\u001b[0minput\u001b[0m\u001b[0;34m,\u001b[0m \u001b[0;34m**\u001b[0m\u001b[0mkwargs\u001b[0m\u001b[0;34m)\u001b[0m\u001b[0;34m\u001b[0m\u001b[0;34m\u001b[0m\u001b[0m\n\u001b[1;32m    557\u001b[0m         \u001b[0;32melse\u001b[0m\u001b[0;34m:\u001b[0m\u001b[0;34m\u001b[0m\u001b[0;34m\u001b[0m\u001b[0m\n\u001b[0;32m--> 558\u001b[0;31m             \u001b[0mresult\u001b[0m \u001b[0;34m=\u001b[0m \u001b[0mself\u001b[0m\u001b[0;34m.\u001b[0m\u001b[0mforward\u001b[0m\u001b[0;34m(\u001b[0m\u001b[0;34m*\u001b[0m\u001b[0minput\u001b[0m\u001b[0;34m,\u001b[0m \u001b[0;34m**\u001b[0m\u001b[0mkwargs\u001b[0m\u001b[0;34m)\u001b[0m\u001b[0;34m\u001b[0m\u001b[0;34m\u001b[0m\u001b[0m\n\u001b[0m\u001b[1;32m    559\u001b[0m         \u001b[0;32mfor\u001b[0m \u001b[0mhook\u001b[0m \u001b[0;32min\u001b[0m \u001b[0mself\u001b[0m\u001b[0;34m.\u001b[0m\u001b[0m_forward_hooks\u001b[0m\u001b[0;34m.\u001b[0m\u001b[0mvalues\u001b[0m\u001b[0;34m(\u001b[0m\u001b[0;34m)\u001b[0m\u001b[0;34m:\u001b[0m\u001b[0;34m\u001b[0m\u001b[0;34m\u001b[0m\u001b[0m\n\u001b[1;32m    560\u001b[0m             \u001b[0mhook_result\u001b[0m \u001b[0;34m=\u001b[0m \u001b[0mhook\u001b[0m\u001b[0;34m(\u001b[0m\u001b[0mself\u001b[0m\u001b[0;34m,\u001b[0m \u001b[0minput\u001b[0m\u001b[0;34m,\u001b[0m \u001b[0mresult\u001b[0m\u001b[0;34m)\u001b[0m\u001b[0;34m\u001b[0m\u001b[0;34m\u001b[0m\u001b[0m\n",
      "\u001b[0;32m~/miniconda3/lib/python3.7/site-packages/torch/nn/modules/container.py\u001b[0m in \u001b[0;36mforward\u001b[0;34m(self, input)\u001b[0m\n\u001b[1;32m     98\u001b[0m     \u001b[0;32mdef\u001b[0m \u001b[0mforward\u001b[0m\u001b[0;34m(\u001b[0m\u001b[0mself\u001b[0m\u001b[0;34m,\u001b[0m \u001b[0minput\u001b[0m\u001b[0;34m)\u001b[0m\u001b[0;34m:\u001b[0m\u001b[0;34m\u001b[0m\u001b[0;34m\u001b[0m\u001b[0m\n\u001b[1;32m     99\u001b[0m         \u001b[0;32mfor\u001b[0m \u001b[0mmodule\u001b[0m \u001b[0;32min\u001b[0m \u001b[0mself\u001b[0m\u001b[0;34m:\u001b[0m\u001b[0;34m\u001b[0m\u001b[0;34m\u001b[0m\u001b[0m\n\u001b[0;32m--> 100\u001b[0;31m             \u001b[0minput\u001b[0m \u001b[0;34m=\u001b[0m \u001b[0mmodule\u001b[0m\u001b[0;34m(\u001b[0m\u001b[0minput\u001b[0m\u001b[0;34m)\u001b[0m\u001b[0;34m\u001b[0m\u001b[0;34m\u001b[0m\u001b[0m\n\u001b[0m\u001b[1;32m    101\u001b[0m         \u001b[0;32mreturn\u001b[0m \u001b[0minput\u001b[0m\u001b[0;34m\u001b[0m\u001b[0;34m\u001b[0m\u001b[0m\n\u001b[1;32m    102\u001b[0m \u001b[0;34m\u001b[0m\u001b[0m\n",
      "\u001b[0;32m~/miniconda3/lib/python3.7/site-packages/torch/nn/modules/module.py\u001b[0m in \u001b[0;36m__call__\u001b[0;34m(self, *input, **kwargs)\u001b[0m\n\u001b[1;32m    556\u001b[0m             \u001b[0mresult\u001b[0m \u001b[0;34m=\u001b[0m \u001b[0mself\u001b[0m\u001b[0;34m.\u001b[0m\u001b[0m_slow_forward\u001b[0m\u001b[0;34m(\u001b[0m\u001b[0;34m*\u001b[0m\u001b[0minput\u001b[0m\u001b[0;34m,\u001b[0m \u001b[0;34m**\u001b[0m\u001b[0mkwargs\u001b[0m\u001b[0;34m)\u001b[0m\u001b[0;34m\u001b[0m\u001b[0;34m\u001b[0m\u001b[0m\n\u001b[1;32m    557\u001b[0m         \u001b[0;32melse\u001b[0m\u001b[0;34m:\u001b[0m\u001b[0;34m\u001b[0m\u001b[0;34m\u001b[0m\u001b[0m\n\u001b[0;32m--> 558\u001b[0;31m             \u001b[0mresult\u001b[0m \u001b[0;34m=\u001b[0m \u001b[0mself\u001b[0m\u001b[0;34m.\u001b[0m\u001b[0mforward\u001b[0m\u001b[0;34m(\u001b[0m\u001b[0;34m*\u001b[0m\u001b[0minput\u001b[0m\u001b[0;34m,\u001b[0m \u001b[0;34m**\u001b[0m\u001b[0mkwargs\u001b[0m\u001b[0;34m)\u001b[0m\u001b[0;34m\u001b[0m\u001b[0;34m\u001b[0m\u001b[0m\n\u001b[0m\u001b[1;32m    559\u001b[0m         \u001b[0;32mfor\u001b[0m \u001b[0mhook\u001b[0m \u001b[0;32min\u001b[0m \u001b[0mself\u001b[0m\u001b[0;34m.\u001b[0m\u001b[0m_forward_hooks\u001b[0m\u001b[0;34m.\u001b[0m\u001b[0mvalues\u001b[0m\u001b[0;34m(\u001b[0m\u001b[0;34m)\u001b[0m\u001b[0;34m:\u001b[0m\u001b[0;34m\u001b[0m\u001b[0;34m\u001b[0m\u001b[0m\n\u001b[1;32m    560\u001b[0m             \u001b[0mhook_result\u001b[0m \u001b[0;34m=\u001b[0m \u001b[0mhook\u001b[0m\u001b[0;34m(\u001b[0m\u001b[0mself\u001b[0m\u001b[0;34m,\u001b[0m \u001b[0minput\u001b[0m\u001b[0;34m,\u001b[0m \u001b[0mresult\u001b[0m\u001b[0;34m)\u001b[0m\u001b[0;34m\u001b[0m\u001b[0;34m\u001b[0m\u001b[0m\n",
      "\u001b[0;32m~/miniconda3/lib/python3.7/site-packages/torch/nn/modules/conv.py\u001b[0m in \u001b[0;36mforward\u001b[0;34m(self, input, output_size)\u001b[0m\n\u001b[1;32m    641\u001b[0m         return F.conv_transpose1d(\n\u001b[1;32m    642\u001b[0m             \u001b[0minput\u001b[0m\u001b[0;34m,\u001b[0m \u001b[0mself\u001b[0m\u001b[0;34m.\u001b[0m\u001b[0mweight\u001b[0m\u001b[0;34m,\u001b[0m \u001b[0mself\u001b[0m\u001b[0;34m.\u001b[0m\u001b[0mbias\u001b[0m\u001b[0;34m,\u001b[0m \u001b[0mself\u001b[0m\u001b[0;34m.\u001b[0m\u001b[0mstride\u001b[0m\u001b[0;34m,\u001b[0m \u001b[0mself\u001b[0m\u001b[0;34m.\u001b[0m\u001b[0mpadding\u001b[0m\u001b[0;34m,\u001b[0m\u001b[0;34m\u001b[0m\u001b[0;34m\u001b[0m\u001b[0m\n\u001b[0;32m--> 643\u001b[0;31m             output_padding, self.groups, self.dilation)\n\u001b[0m\u001b[1;32m    644\u001b[0m \u001b[0;34m\u001b[0m\u001b[0m\n\u001b[1;32m    645\u001b[0m \u001b[0;34m\u001b[0m\u001b[0m\n",
      "\u001b[0;31mRuntimeError\u001b[0m: Given transposed=1, weight of size [256, 256, 4], expected input[16, 4, 16] to have 256 channels, but got 4 channels instead"
     ]
    }
   ],
   "source": [
    "z, diff, lat1 = s1.encode(batch)\n",
    "z, diff, lat2 = s2.encode(lat1)\n",
    "\n",
    "lat2_dec = s2.decode_codes(lat2).argmax(-1)\n",
    "lat1_dec = s1.decode_codes(lat2_dec).argmax(-1)"
   ]
  },
  {
   "cell_type": "code",
   "execution_count": 49,
   "metadata": {
    "collapsed": false,
    "jupyter": {
     "outputs_hidden": false
    },
    "pycharm": {
     "is_executing": false,
     "name": "#%%\n"
    }
   },
   "outputs": [
    {
     "name": "stdout",
     "output_type": "stream",
     "text": [
      "Laut eine muhsendung eine muhsendung eine gessendung eine gessendung eine gessendung eine gessendung eine gessendung eine gessendung eine gessendung eine gessendung eine gessendung eine gessendung eine gessendung eine gessendung eine muhsendung eine Proan\n",
      "Trosisch rusdrigkrastand rustringen. And end Jungen. And end Jungen. And end Jungen. And end Jungen. And end Jungen. And end Jungen. And end Jungen. And end Jungen. And end Jungen. And end Jungen. And end Jungen. And end Jungen. And end Jungen. And en. Si\n",
      "Trosisch rusdrigkrastand rustringen. And end Jungen. And end Jungen. And end Jungen. And end Jungen. And end Jungen. And end Jungen. And end Jungen. And end Jungen. And end Jungen. And end Jungen. And end Jungen. And end Jungen. And end Jungen. And en. Si\n",
      "Trosisch rusdrigkrastand rustringen. And end Jungen. And end Jungen. And end Jungen. And end Jungen. And end Jungen. And end Jungen. And end Jungen. And end Jungen. And end Jungen. And end Jungen. And end Jungen. And end Jungen. And end Jungen. And en. Si\n",
      "Trosisch rusdrigkrastand rustringen. And end Jungen. And end Jungen. And end Jungen. And end Jungen. And end Jungen. And end Jungen. And end Jungen. And end Jungen. And end Jungen. And end Jungen. And end Jungen. And end Jungen. And end Jungen. And en. Si\n",
      "Trosisch rusdrigkrastand rustringen. And end Jungen. And end Jungen. And end Jungen. And end Jungen. And end Jungen. And end Jungen. And end Jungen. And end Jungen. And end Jungen. And end Jungen. And end Jungen. And end Jungen. And end Jungen. And en. Si\n",
      "Laut die verband ung der Tatsachtung der Hapmen. Ing der Hapmen. Ing der Hapmen. Ing der Hapmen. Ing der Hapmen. Ing der Hapmen. Ing der Hapmen. Ing der Hapmen. Ing der Hapmen. Ing der Hapmen. Ing der Hapmen. Ing der Hapmen. Ing der Tatsachtung der Rennen\n",
      "Trosisch rusdrigkrastand rustringen. And end Jungen. And end Jungen. And end Jungen. And end Jungen. And end Jungen. And end Jungen. And end Jungen. And end Jungen. And end Jungen. And end Jungen. And end Jungen. And end Jungen. And end Jungen. And en. Si\n",
      "Garansapaliel in Aufzungsen. Der Aufzungsen. Der Aufzungsen. Der Aufzungsen. Der Aufzungsen. Der Aufzungsen. Der Aufzungsen. Der Aufzungsen. Der Aufzungsen. Der Aufzungsen. Der Aufzungsen. Der Aufzungsen. Der Aufzungsen. Der Aufzungsdung in Rullungsen. Un\n",
      "Trosisch rusdrigkrastand rustringen. And end Jungen. And end Jungen. And end Jungen. And end Jungen. And end Jungen. And end Jungen. And end Jungen. And end Jungen. And end Jungen. And end Jungen. And end Jungen. And end Jungen. And end Jungen. And en. Si\n",
      "Aber geht der Enochtianischen Unechtohunschen Unechtohunschen Unechtohunschen Unechtohunschen Unechtohunschen Unechtohunschen Unechtohunschen Unechtohunschen Unechtohunschen Unechtohunschen Unechtohunschen Unechtohunschen Unechtohunschen Lecker aniugen Al\n",
      "Trosisch rusdrigkrastand rustringen. And end Jungen. And end Jungen. And end Jungen. And end Jungen. And end Jungen. And end Jungen. And end Jungen. And end Jungen. And end Jungen. And end Jungen. And end Jungen. And end Jungen. And end Jungen. And en. Si\n",
      "Damit seidie Strohrt auf die Strohrt auf die Strohrt auf die Strohrt auf die Strohrt auf die Strohrt auf die Strohrt auf die Strohrt auf die Strohrt auf die Strohrt auf die Strohrt auf die Strohrt auf die Strohrt auf die Strohrt auf der geht. Zu. Undenene\n",
      "Trosisch rusdrigkrastand rustringen. And end Jungen. And end Jungen. And end Jungen. And end Jungen. And end Jungen. And end Jungen. And end Jungen. And end Jungen. And end Jungen. And end Jungen. And end Jungen. And end Jungen. And end Jungen. And en. Si\n",
      "Trosisch rusdrigkrastand rustringen. And end Jungen. And end Jungen. And end Jungen. And end Jungen. And end Jungen. And end Jungen. And end Jungen. And end Jungen. And end Jungen. And end Jungen. And end Jungen. And end Jungen. And end Jungen. And en. Si\n",
      "Trosisch rusdrigkrastand rustringen. And end Jungen. And end Jungen. And end Jungen. And end Jungen. And end Jungen. And end Jungen. And end Jungen. And end Jungen. And end Jungen. And end Jungen. And end Jungen. And end Jungen. And end Jungen. And en. Si\n",
      "Inner hat in die Prozent, in der Prozent, in der Prozent, in der Prozent, in der Prozent, in der Prozent, in der Prozent, in der Prozent, in der Prozent, in der Prozent, in der Prozent, in der Prozent, in der Prozent, in der Prozent, in der Euro. Raden al\n",
      "Trosisch rusdrigkrastand rustringen. And end Jungen. And end Jungen. And end Jungen. And end Jungen. And end Jungen. And end Jungen. And end Jungen. And end Jungen. And end Jungen. And end Jungen. And end Jungen. And end Jungen. And end Jungen. And en. Si\n",
      "Trosisch rusdrigkrastand rustringen. And end Jungen. And end Jungen. And end Jungen. And end Jungen. And end Jungen. And end Jungen. And end Jungen. And end Jungen. And end Jungen. And end Jungen. And end Jungen. And end Jungen. And end Jungen. And en. Si\n",
      "Dollar wohnt die nithilsteder im nichst. Ider im nichst. Ider im nichst. Ider im nichst. Ider im nichst. Ider im nichst. Ider im nichst. Ider im nichst. Ider im nichst. Ider im nichst. Ider im nichst. Ider im nichst. Ider im nithilsteder im nicht daeie Si\n",
      "Trosisch rusdrigkrastand rustringen. And end Jungen. And end Jungen. And end Jungen. And end Jungen. And end Jungen. And end Jungen. And end Jungen. And end Jungen. And end Jungen. And end Jungen. And end Jungen. And end Jungen. And end Jungen. And en. Si\n",
      "Trosisch rusdrigkrastand rustringen. And end Jungen. And end Jungen. And end Jungen. And end Jungen. And end Jungen. And end Jungen. And end Jungen. And end Jungen. And end Jungen. And end Jungen. And end Jungen. And end Jungen. And end Jungen. And en. Si\n",
      "Trosisch rusdrigkrastand rustringen. And end Jungen. And end Jungen. And end Jungen. And end Jungen. And end Jungen. And end Jungen. And end Jungen. And end Jungen. And end Jungen. And end Jungen. And end Jungen. And end Jungen. And end Jungen. And en. Si\n",
      "Es wird man nicht, nach die Ficht, nach die Ficht, nach die Ficht, nach die Ficht, nach die Ficht, nach die Ficht, nach die Ficht, nach die Ficht, nach die Ficht, nach die Ficht, nach die Ficht, nach die Ficht, nach die Ficht, nach die Eicht, nach der Bla\n",
      "Petrogierist das vergniedung. Ausversnierung. Ausversnierung. Ausversnierung. Ausversnierung. Ausversnierung. Ausversnierung. Ausversnierung. Ausversnierung. Ausversnierung. Ausversnierung. Ausversnierung. Ausversnierung. Ausversnierung von Orfanden zu al\n",
      "Trosisch rusdrigkrastand rustringen. And end Jungen. And end Jungen. And end Jungen. And end Jungen. And end Jungen. And end Jungen. And end Jungen. And end Jungen. And end Jungen. And end Jungen. And end Jungen. And end Jungen. And end Jungen. And en. Si\n",
      "Trosisch rusdrigkrastand rustringen. And end Jungen. And end Jungen. And end Jungen. And end Jungen. And end Jungen. And end Jungen. And end Jungen. And end Jungen. And end Jungen. And end Jungen. And end Jungen. And end Jungen. And end Jungen. And en. Si\n",
      "Jensuche Aufacheitlische Aufacheitlische Aufacheitlische Aufacheitlische Aufacheitlische Aufacheitlische Aufacheitlische Aufacheitlische Aufacheitlische Aufacheitlische Aufacheitlische Aufacheitlische Aufacheitlische Aufacheitlische Ausscher musche Autten\n",
      "Trosisch rusdrigkrastand rustringen. And end Jungen. And end Jungen. And end Jungen. And end Jungen. And end Jungen. And end Jungen. And end Jungen. And end Jungen. And end Jungen. And end Jungen. And end Jungen. And end Jungen. And end Jungen. And en. Si\n",
      "Dies im Sschee weitern soschee weiterst, sche. Doiwerst, sche. Doiwerst, sche. Doiwerst, sche. Doiwerst, sche. Doiwerst, sche. Doiwerst, sche. Doiwerst, sche. Doiwerst, sche. Doiwerst, sche. Doiwerst, sche. Doiwerst, sche. Doiwerst, sche1 weiterben Aufgen\n",
      "Trosisch rusdrigkrastand rustringen. And end Jungen. And end Jungen. And end Jungen. And end Jungen. And end Jungen. And end Jungen. And end Jungen. And end Jungen. And end Jungen. And end Jungen. And end Jungen. And end Jungen. And end Jungen. And en. Si\n",
      "Trosisch rusdrigkrastand rustringen. And end Jungen. And end Jungen. And end Jungen. And end Jungen. And end Jungen. And end Jungen. And end Jungen. And end Jungen. And end Jungen. And end Jungen. And end Jungen. And end Jungen. And end Jungen. And en. Si\n",
      "Verpflichten Deutschungen in Deutschungen in Deutschungen in Deutschungen in Deutschungen in Deutschungen in Deutschungen in Deutschungen in Deutschungen in Deutschungen in Deutschungen in Deutschungen in Deutschungen in Deutschungen im Vernache. Roten Al\n",
      "Trosisch rusdrigkrastand rustringen. And end Jungen. And end Jungen. And end Jungen. And end Jungen. And end Jungen. And end Jungen. And end Jungen. And end Jungen. And end Jungen. And end Jungen. And end Jungen. And end Jungen. And end Jungen. And en. Si\n",
      "Trosisch rusdrigkrastand rustringen. And end Jungen. And end Jungen. And end Jungen. And end Jungen. And end Jungen. And end Jungen. And end Jungen. And end Jungen. And end Jungen. And end Jungen. And end Jungen. And end Jungen. And end Jungen. And en. Si\n",
      "Trosisch rusdrigkrastand rustringen. And end Jungen. And end Jungen. And end Jungen. And end Jungen. And end Jungen. And end Jungen. And end Jungen. And end Jungen. And end Jungen. And end Jungen. And end Jungen. And end Jungen. And end Jungen. And en. Si\n",
      "Trosisch rusdrigkrastand rustringen. And end Jungen. And end Jungen. And end Jungen. And end Jungen. And end Jungen. And end Jungen. And end Jungen. And end Jungen. And end Jungen. And end Jungen. And end Jungen. And end Jungen. And end Jungen. And en. Si\n",
      "Trosisch rusdrigkrastand rustringen. And end Jungen. And end Jungen. And end Jungen. And end Jungen. And end Jungen. And end Jungen. And end Jungen. And end Jungen. And end Jungen. And end Jungen. And end Jungen. And end Jungen. And end Jungen. And en. Si\n",
      "Trosisch rusdrigkrastand rustringen. And end Jungen. And end Jungen. And end Jungen. And end Jungen. And end Jungen. And end Jungen. And end Jungen. And end Jungen. And end Jungen. And end Jungen. And end Jungen. And end Jungen. And end Jungen. And en. Si\n",
      "Trosisch rusdrigkrastand rustringen. And end Jungen. And end Jungen. And end Jungen. And end Jungen. And end Jungen. And end Jungen. And end Jungen. And end Jungen. And end Jungen. And end Jungen. And end Jungen. And end Jungen. And end Jungen. And en. Si\n",
      "Cbrisich sich afsmatlich sich afsmadlich mehr afsmatlich mehr afsmatlich mehr afsmatlich mehr afsmatlich mehr afsmatlich mehr afsmatlich mehr afsmatlich mehr afsmatlich mehr afsmatlich mehr afsmatlich mehr afsmatlich mehr afsmatlich sich entgemacht und si\n",
      "Trosisch rusdrigkrastand rustringen. And end Jungen. And end Jungen. And end Jungen. And end Jungen. And end Jungen. And end Jungen. And end Jungen. And end Jungen. And end Jungen. And end Jungen. And end Jungen. And end Jungen. And end Jungen. And en. Si\n",
      "Trosisch rusdrigkrastand rustringen. And end Jungen. And end Jungen. And end Jungen. And end Jungen. And end Jungen. And end Jungen. And end Jungen. And end Jungen. And end Jungen. And end Jungen. And end Jungen. And end Jungen. And end Jungen. And en. Si\n",
      "Trosisch rusdrigkrastand rustringen. And end Jungen. And end Jungen. And end Jungen. And end Jungen. And end Jungen. And end Jungen. And end Jungen. And end Jungen. And end Jungen. And end Jungen. And end Jungen. And end Jungen. And end Jungen. And en. Si\n",
      "Trosisch rusdrigkrastand rustringen. And end Jungen. And end Jungen. And end Jungen. And end Jungen. And end Jungen. And end Jungen. And end Jungen. And end Jungen. And end Jungen. And end Jungen. And end Jungen. And end Jungen. And end Jungen. And en. Si\n",
      "Trosisch rusdrigkrastand rustringen. And end Jungen. And end Jungen. And end Jungen. And end Jungen. And end Jungen. And end Jungen. And end Jungen. And end Jungen. And end Jungen. And end Jungen. And end Jungen. And end Jungen. And end Jungen. And en. Si\n",
      "Trosisch rusdrigkrastand rustringen. And end Jungen. And end Jungen. And end Jungen. And end Jungen. And end Jungen. And end Jungen. And end Jungen. And end Jungen. And end Jungen. And end Jungen. And end Jungen. And end Jungen. And end Jungen. And en. Si\n",
      "Trosisch rusdrigkrastand rustringen. And end Jungen. And end Jungen. And end Jungen. And end Jungen. And end Jungen. And end Jungen. And end Jungen. And end Jungen. And end Jungen. And end Jungen. And end Jungen. And end Jungen. And end Jungen. And en. Si\n",
      "Sie unde sich miverdings sich diverdings sich diverdings sich diverdings sich diverdings sich diverdings sich diverdings sich diverdings sich diverdings sich diverdings sich diverdings sich diverdings sich diverdings sich diverdings sich die Kahter, versi\n",
      "Trosisch rusdrigkrastand rustringen. And end Jungen. And end Jungen. And end Jungen. And end Jungen. And end Jungen. And end Jungen. And end Jungen. And end Jungen. And end Jungen. And end Jungen. And end Jungen. And end Jungen. And end Jungen. And en. Si\n",
      "Wer kommt wing des Pranzierung des Kaillwarden des Kaillwarden des Kaillwarden des Kaillwarden des Kaillwarden des Kaillwarden des Kaillwarden des Kaillwarden des Kaillwarden des Kaillwarden des Kaillwarden des Kaillwarden des Kaillwarden des Traummen. Se\n",
      "Trosisch rusdrigkrastand rustringen. And end Jungen. And end Jungen. And end Jungen. And end Jungen. And end Jungen. And end Jungen. And end Jungen. And end Jungen. And end Jungen. And end Jungen. And end Jungen. And end Jungen. And end Jungen. And en. Si\n",
      "Trosisch rusdrigkrastand rustringen. And end Jungen. And end Jungen. And end Jungen. And end Jungen. And end Jungen. And end Jungen. And end Jungen. And end Jungen. And end Jungen. And end Jungen. And end Jungen. And end Jungen. And end Jungen. And en. Si\n",
      "Trosisch rusdrigkrastand rustringen. And end Jungen. And end Jungen. And end Jungen. And end Jungen. And end Jungen. And end Jungen. And end Jungen. And end Jungen. And end Jungen. And end Jungen. And end Jungen. And end Jungen. And end Jungen. And en. Si\n",
      "Trosisch rusdrigkrastand rustringen. And end Jungen. And end Jungen. And end Jungen. And end Jungen. And end Jungen. And end Jungen. And end Jungen. And end Jungen. And end Jungen. And end Jungen. And end Jungen. And end Jungen. And end Jungen. And en. Si\n",
      "Trosisch rusdrigkrastand rustringen. And end Jungen. And end Jungen. And end Jungen. And end Jungen. And end Jungen. And end Jungen. And end Jungen. And end Jungen. And end Jungen. And end Jungen. And end Jungen. And end Jungen. And end Jungen. And en. Si\n",
      "Vormicherungskampfschuheuungsen. gschuher habend gschuher habend gschuher habend gschuher habend gschuher habend gschuher habend gschuher habend gschuher habend gschuher habend gschuher habend gschuher habend gschuher habend Wschuherungsand schlappe versi\n",
      "Mit machsten Wochen sass die Kinst, dass die Kinst, dass die Kinst, dass die Kinst, dass die Kinst, dass die Kinst, dass die Kinst, dass die Kinst, dass die Kinst, dass die Kinst, dass die Kinst, dass die Kinst, dass die Kinden sass die wurden gekam er Al\n",
      "Trosisch rusdrigkrastand rustringen. And end Jungen. And end Jungen. And end Jungen. And end Jungen. And end Jungen. And end Jungen. And end Jungen. And end Jungen. And end Jungen. And end Jungen. And end Jungen. And end Jungen. And end Jungen. And en. Si\n",
      "Trosisch rusdrigkrastand rustringen. And end Jungen. And end Jungen. And end Jungen. And end Jungen. And end Jungen. And end Jungen. And end Jungen. And end Jungen. And end Jungen. And end Jungen. And end Jungen. And end Jungen. And end Jungen. And en. Si\n",
      "Trosisch rusdrigkrastand rustringen. And end Jungen. And end Jungen. And end Jungen. And end Jungen. And end Jungen. And end Jungen. And end Jungen. And end Jungen. And end Jungen. And end Jungen. And end Jungen. And end Jungen. And end Jungen. And en. Si\n",
      "Trosisch rusdrigkrastand rustringen. And end Jungen. And end Jungen. And end Jungen. And end Jungen. And end Jungen. And end Jungen. And end Jungen. And end Jungen. And end Jungen. And end Jungen. And end Jungen. And end Jungen. And end Jungen. And en. Si\n",
      "Trosisch rusdrigkrastand rustringen. And end Jungen. And end Jungen. And end Jungen. And end Jungen. And end Jungen. And end Jungen. And end Jungen. And end Jungen. And end Jungen. And end Jungen. And end Jungen. And end Jungen. And end Jungen. And en. Si\n",
      "Trosisch rusdrigkrastand rustringen. And end Jungen. And end Jungen. And end Jungen. And end Jungen. And end Jungen. And end Jungen. And end Jungen. And end Jungen. And end Jungen. And end Jungen. And end Jungen. And end Jungen. And end Jungen. And en. Si\n",
      "Wahrend Eich soch nimig Untersuch nimig Untersuch nimig Untersuch nimig Untersuch nimig Untersuch nimig Untersuch nimig Untersuch nimig Untersuch nimig Untersuch nimig Untersuch nimig Untersuch nimig Untersuch nimig Untersuch nimig Untersuchung in eine Ta\n",
      "Trosisch rusdrigkrastand rustringen. And end Jungen. And end Jungen. And end Jungen. And end Jungen. And end Jungen. And end Jungen. And end Jungen. And end Jungen. And end Jungen. And end Jungen. And end Jungen. And end Jungen. And end Jungen. And en. Si\n",
      "Anderersesen Pollere beriche Rollern herten, Rollern herten, Rollern herten, Rollern herten, Rollern herten, Rollern herten, Rollern herten, Rollern herten, Rollern herten, Rollern herten, Rollern herten, Rollern herten, Rollern herosen Follern zwichen, h\n",
      "Trosisch rusdrigkrastand rustringen. And end Jungen. And end Jungen. And end Jungen. And end Jungen. And end Jungen. And end Jungen. And end Jungen. And end Jungen. And end Jungen. And end Jungen. And end Jungen. And end Jungen. And end Jungen. And en. Si\n",
      "Trosisch rusdrigkrastand rustringen. And end Jungen. And end Jungen. And end Jungen. And end Jungen. And end Jungen. And end Jungen. And end Jungen. And end Jungen. And end Jungen. And end Jungen. And end Jungen. And end Jungen. And end Jungen. And en. Si\n",
      "Trosisch rusdrigkrastand rustringen. And end Jungen. And end Jungen. And end Jungen. And end Jungen. And end Jungen. And end Jungen. And end Jungen. And end Jungen. And end Jungen. And end Jungen. And end Jungen. And end Jungen. And end Jungen. And en. Si\n",
      "Trosisch rusdrigkrastand rustringen. And end Jungen. And end Jungen. And end Jungen. And end Jungen. And end Jungen. And end Jungen. And end Jungen. And end Jungen. And end Jungen. And end Jungen. And end Jungen. And end Jungen. And end Jungen. And en. Si\n",
      "Trosisch rusdrigkrastand rustringen. And end Jungen. And end Jungen. And end Jungen. And end Jungen. And end Jungen. And end Jungen. And end Jungen. And end Jungen. And end Jungen. And end Jungen. And end Jungen. And end Jungen. And end Jungen. And en. Si\n",
      "Die Batsputenen in 169 Prozenen in 169 Prozenen in 169 Prozenen in 169 Prozenen in 169 Prozenen in 169 Prozenen in 169 Prozenen in 169 Prozenen in 169 Prozenen in 169 Prozenen in 169 Prozenen in 169 Prozenen in 169 Prozenen in 169 Prozenen in der Bundesen\n",
      "Trosisch rusdrigkrastand rustringen. And end Jungen. And end Jungen. And end Jungen. And end Jungen. And end Jungen. And end Jungen. And end Jungen. And end Jungen. And end Jungen. And end Jungen. And end Jungen. And end Jungen. And end Jungen. And en. Si\n",
      "Trosisch rusdrigkrastand rustringen. And end Jungen. And end Jungen. And end Jungen. And end Jungen. And end Jungen. And end Jungen. And end Jungen. And end Jungen. And end Jungen. And end Jungen. And end Jungen. And end Jungen. And end Jungen. And en. Si\n",
      "Trosisch rusdrigkrastand rustringen. And end Jungen. And end Jungen. And end Jungen. And end Jungen. And end Jungen. And end Jungen. And end Jungen. And end Jungen. And end Jungen. And end Jungen. And end Jungen. And end Jungen. And end Jungen. And en. Si\n",
      "Trosisch rusdrigkrastand rustringen. And end Jungen. And end Jungen. And end Jungen. And end Jungen. And end Jungen. And end Jungen. And end Jungen. And end Jungen. And end Jungen. And end Jungen. And end Jungen. And end Jungen. And end Jungen. And en. Si\n",
      "Trosisch rusdrigkrastand rustringen. And end Jungen. And end Jungen. And end Jungen. And end Jungen. And end Jungen. And end Jungen. And end Jungen. And end Jungen. And end Jungen. And end Jungen. And end Jungen. And end Jungen. And end Jungen. And en. Si\n",
      "Trosisch rusdrigkrastand rustringen. And end Jungen. And end Jungen. And end Jungen. And end Jungen. And end Jungen. And end Jungen. And end Jungen. And end Jungen. And end Jungen. And end Jungen. And end Jungen. And end Jungen. And end Jungen. And en. Si\n",
      "Immer seider Rollung auf der Rollung auf der Rollung auf der Rollung auf der Rollung auf der Rollung auf der Rollung auf der Rollung auf der Rollung auf der Rollung auf der Rollung auf der Rollung auf der Rollung auf der Rollung auf der Euro. Zu nihmen ne\n",
      "Statt hatte sine Milliarste 12,5 Milliarch. 13,5 Milliarch. 13,5 Milliarch. 13,5 Milliarch. 13,5 Milliarch. 13,5 Milliarch. 13,5 Milliarch. 13,5 Milliarch. 13,5 Milliarch. 13,5 Milliarch. 13,5 Milliarch. 13,5 Milliarch. 13,5 Milliarden eine Milliarden Ren\n",
      "Im Lotte die Stade hatte die Stadt eagen die Stadt eagen die Stadt eagen die Stadt eagen die Stadt eagen die Stadt eagen die Stadt eagen die Stadt eagen die Stadt eagen die Stadt eagen die Stadt eagen die Stadt eagen die Stadt eagen die Lebem lucht die ne\n",
      "Wer ist seiten unf eich seiten und eich seiten und eich seiten und eich seiten und eich seiten und eich seiten und eich seiten und eich seiten und eich seiten und eich seiten und eich seiten und eich seiten und eich seiten und eich seiten unischch lach Sp\n",
      "Trosisch rusdrigkrastand rustringen. And end Jungen. And end Jungen. And end Jungen. And end Jungen. And end Jungen. And end Jungen. And end Jungen. And end Jungen. And end Jungen. And end Jungen. And end Jungen. And end Jungen. And end Jungen. And en. Si\n",
      "Trosisch rusdrigkrastand rustringen. And end Jungen. And end Jungen. And end Jungen. And end Jungen. And end Jungen. And end Jungen. And end Jungen. And end Jungen. And end Jungen. And end Jungen. And end Jungen. And end Jungen. And end Jungen. And en. Si\n",
      "Trosisch rusdrigkrastand rustringen. And end Jungen. And end Jungen. And end Jungen. And end Jungen. And end Jungen. And end Jungen. And end Jungen. And end Jungen. And end Jungen. And end Jungen. And end Jungen. And end Jungen. And end Jungen. And en. Si\n",
      "Dem Bericht ungaben zufolg, dass en werden, dass en werden, dass en werden, dass en werden, dass en werden, dass en werden, dass en werden, dass en werden, dass en werden, dass en werden, dass en werden, dass en werden, dass en werden, dass In werdech ken\n",
      "Trosisch rusdrigkrastand rustringen. And end Jungen. And end Jungen. And end Jungen. And end Jungen. And end Jungen. And end Jungen. And end Jungen. And end Jungen. And end Jungen. And end Jungen. And end Jungen. And end Jungen. And end Jungen. And en. Si\n",
      "Welt Minerscheistung Unforschaft ung Unforschaft ung Unforschaft ung Unforschaft ung Unforschaft ung Unforschaft ung Unforschaft ung Unforschaft ung Unforschaft ung Unforschaft ung Unforschaft ung Unforschaft ung Unforschaft ung Unforschaft unge sicher Si\n",
      "Trosisch rusdrigkrastand rustringen. And end Jungen. And end Jungen. And end Jungen. And end Jungen. And end Jungen. And end Jungen. And end Jungen. And end Jungen. And end Jungen. And end Jungen. And end Jungen. And end Jungen. And end Jungen. And en. Si\n",
      "Trosisch rusdrigkrastand rustringen. And end Jungen. And end Jungen. And end Jungen. And end Jungen. And end Jungen. And end Jungen. And end Jungen. And end Jungen. And end Jungen. And end Jungen. And end Jungen. And end Jungen. And end Jungen. And en. Si\n",
      "Darofher, seidie Antwach und der Anteer, und der Anteer, und der Anteer, und der Anteer, und der Anteer, und der Anteer, und der Anteer, und der Anteer, und der Anteer, und der Anteer, und der Anteer, und der Anteer, und der Ant entrun, der Untenraagen Ve\n",
      "Trosisch rusdrigkrastand rustringen. And end Jungen. And end Jungen. And end Jungen. And end Jungen. And end Jungen. And end Jungen. And end Jungen. And end Jungen. And end Jungen. And end Jungen. And end Jungen. And end Jungen. And end Jungen. And en. Si\n",
      "Trosisch rusdrigkrastand rustringen. And end Jungen. And end Jungen. And end Jungen. And end Jungen. And end Jungen. And end Jungen. And end Jungen. And end Jungen. And end Jungen. And end Jungen. And end Jungen. And end Jungen. And end Jungen. And en. Si\n",
      "Trosisch rusdrigkrastand rustringen. And end Jungen. And end Jungen. And end Jungen. And end Jungen. And end Jungen. And end Jungen. And end Jungen. And end Jungen. And end Jungen. And end Jungen. And end Jungen. And end Jungen. And end Jungen. And en. Si\n",
      "Trosisch rusdrigkrastand rustringen. And end Jungen. And end Jungen. And end Jungen. And end Jungen. And end Jungen. And end Jungen. And end Jungen. And end Jungen. And end Jungen. And end Jungen. And end Jungen. And end Jungen. And end Jungen. And en. Si\n",
      "Inwuhmesandebsich sisstdenhebsich sickt. Exerrich sicst. Exerrich sicst. Exerrich sicst. Exerrich sicst. Exerrich sicst. Exerrich sicst. Exerrich sicst. Exerrich sicst. Exerrich sicst. Exerrich sicst. Exerrich sicst. Exerrich sicst. Exersich sich daeie Si\n",
      "Trosisch rusdrigkrastand rustringen. And end Jungen. And end Jungen. And end Jungen. And end Jungen. And end Jungen. And end Jungen. And end Jungen. And end Jungen. And end Jungen. And end Jungen. And end Jungen. And end Jungen. And end Jungen. And en. Si\n",
      "Trosisch rusdrigkrastand rustringen. And end Jungen. And end Jungen. And end Jungen. And end Jungen. And end Jungen. And end Jungen. And end Jungen. And end Jungen. And end Jungen. And end Jungen. And end Jungen. And end Jungen. And end Jungen. And en. Si\n",
      "Trosisch rusdrigkrastand rustringen. And end Jungen. And end Jungen. And end Jungen. And end Jungen. And end Jungen. And end Jungen. And end Jungen. And end Jungen. And end Jungen. And end Jungen. And end Jungen. And end Jungen. And end Jungen. And en. Si\n"
     ]
    }
   ],
   "source": [
    "for i in range(100):\n",
    "    lat2[0] = i\n",
    "    \n",
    "    lat2_dec = s2.decode_codes(lat2).argmax(-1)\n",
    "    lat1_dec = s1.decode_codes(lat2_dec).argmax(-1)\n",
    "\n",
    "    print(ByteLevelTextDataset.seq_to_text(lat1_dec)[0])"
   ]
  },
  {
   "cell_type": "code",
   "execution_count": 35,
   "metadata": {
    "collapsed": false,
    "jupyter": {
     "outputs_hidden": false
    },
    "pycharm": {
     "is_executing": false,
     "name": "#%%\n"
    }
   },
   "outputs": [
    {
     "data": {
      "text/plain": [
       "torch.Size([16, 64, 4096])"
      ]
     },
     "execution_count": 35,
     "metadata": {},
     "output_type": "execute_result"
    }
   ],
   "source": [
    "s2.decode_codes(lat2).shape"
   ]
  },
  {
   "cell_type": "code",
   "execution_count": null,
   "metadata": {
    "collapsed": false,
    "jupyter": {
     "outputs_hidden": false
    },
    "pycharm": {
     "name": "#%%\n"
    }
   },
   "outputs": [],
   "source": [
    "dataset = LMDBDataset('../results/textcnn-ref-2/train-latents')\n",
    "\n",
    "ae = torch.load('../results/textcnn-ref-2/checkpoints/model_3.pth')\n",
    "ae = ae.to('cpu')\n",
    "ae.eval();"
   ]
  },
  {
   "cell_type": "code",
   "execution_count": 4,
   "metadata": {
    "collapsed": false,
    "jupyter": {
     "outputs_hidden": false
    },
    "pycharm": {
     "is_executing": false,
     "name": "#%%\n"
    }
   },
   "outputs": [],
   "source": [
    "latents = torch.stack([dataset[i] for i in range(10)])"
   ]
  },
  {
   "cell_type": "code",
   "execution_count": 33,
   "metadata": {
    "collapsed": false,
    "jupyter": {
     "outputs_hidden": false
    },
    "pycharm": {
     "is_executing": false,
     "name": "#%%\n"
    }
   },
   "outputs": [],
   "source": [
    "def latent_to_text(latent):\n",
    "    recon = ae.decode_codes(latent).argmax(-1)\n",
    "    return ByteLevelTextDataset.seq_to_text(recon)\n"
   ]
  },
  {
   "cell_type": "code",
   "execution_count": 6,
   "metadata": {
    "collapsed": false,
    "jupyter": {
     "outputs_hidden": false
    },
    "pycharm": {
     "is_executing": false,
     "name": "#%%\n"
    }
   },
   "outputs": [
    {
     "data": {
      "text/plain": [
       "['Sa bin ich als Versehen inmitten einer Hangriffe mit dem Zug am Stadion angekommen. Die Einheimischen haben uns mit Geuchtgegeld beschossen und mit Steinen die Scheiben im Zug eingeschmissen.\\x01',\n",
       " 'Ausschliesslich an Entwickler hat BRA einen als New Alpaa bezeichneten Prolotop ausgeliefert. Erste Bests mit weiteren Geraten, die London und Netadt heissen sollen, laufen angeblich bereits.\\x01',\n",
       " 'Sie liegt auf der Linie dessen, was die Bischafe immer gesagt hatten. Es gebe ein eigenstandiges Arbeitstecht fur die Kirche, und die Mitarbeiter wussten, dass sie sich daran zu halten haben.\\x01',\n",
       " 'Die Zahlen seien zwar im Rahmen der Erwartungen ausgefallen. Allerdings gebe es weder bei den Ergebnissen noch beim Ausblick irgendwelche aussergewohnlichen Uberraschungen, sagte ein Handler.\\x01',\n",
       " 'Die Zahlen seien zwar im Rahmen der Erwartungen ausgefallen. Allerdings gebe es weder bei den Ergebnissen noch beim Ausblick irgendwelche aussergewohnlichen Uberraschungen, sagte ein Handler.\\x01',\n",
       " 'Hamburg verdient besseres als Mittelfags. Weil die Stadt eine Weltstadt ist, muss auch der Club entsprechend gut destehen und der naturliche Anspruch erhoben werden, ein Spitzenteam zu haben.\\x01',\n",
       " 'Fur Kunden von anderen Airlines, die sich nicht freiwillig beteiligen, soll es eine gesetzliche Auffanklarung geben. Beim Luftfahrtbundesamt gibt es pro Jahr fast 2000 effizielle Beschwerden.\\x01',\n",
       " 'Am Dienstag sagten die Veranstalter die Berliner Messe ab. Und zauserten ein Alternhtithonzept aus dem Eut, mit dem man wohl hofft, zumindest den guten Namen der Messeveranstaltung zu retten.\\x01',\n",
       " 'Der indische Politiker Bolid Canaki fallt bei einer Wahlkundgebung in Spaleruhrudul im sudindischen Unionsstaat Mamia Cali einem Bombenanschlag zum Opfer. Mit ihm sterben weitere 15 Menschen.\\x01',\n",
       " 'In der Bangliste nach Bevolkerungsjahl fuhrt Russland vor Deutschland und Frankreich. Doch im Bruttoinlandsprodukt dr. Kopf liegt Russland an volletzter Stelle unter den 15 teilnehmerlandern.\\x01']"
      ]
     },
     "execution_count": 6,
     "metadata": {},
     "output_type": "execute_result"
    }
   ],
   "source": [
    "latent_to_text(latents)"
   ]
  },
  {
   "cell_type": "code",
   "execution_count": 7,
   "metadata": {
    "collapsed": false,
    "jupyter": {
     "outputs_hidden": false
    },
    "pycharm": {
     "is_executing": false,
     "name": "#%%\n"
    }
   },
   "outputs": [
    {
     "name": "stdout",
     "output_type": "stream",
     "text": [
      "Sa bin ich als Versehen inmitten einer Hangriffe mit dem Zug am Stadion angekommen. Die Einheimischen haben uns mit Geuchtgegeld beschossen und mit Steinen die Scheiben im Zug eingeschmissen.\u0001\u0001ostnlseriseriseriseriseriseriseriseriseriseriseriseryserystristfumschliesslich an Entwickler hat BRA einen als New Alpaa bezeichneten Prolotop ausgeliefert. Erste Bests mit weiteren Geraten, die London und Netadt heissen sollen, laufen angeblich bereits.\u0001\u0001ystniseriseriseriseriseriseriseriseriseriseriseriseryserystrrserie liegt auf der Linie dessen, was die Bischafe immer gesagt hatten. Es gebe ein eigenstandiges Arbeitstecht fur die Kirche, und die Mitarbeiter wussten, dass sie sich daran zu halten haben.\u0001\u0001ostilseriseriseriseriseriseriseriseriseriseriseriseryserystrrstrie Zahlen seien zwar im Rahmen der Erwartungen ausgefallen. Allerdings gebe es weder bei den Ergebnissen noch beim Ausblick irgendwelche aussergewohnlichen Uberraschungen, sagte ein Handler.\u0001\u0001ystnlseriseriseriseriseriseriseriseriseriseriseriseryserystrrstrie Zahlen seien zwar im Rahmen der Erwartungen ausgefallen. Allerdings gebe es weder bei den Ergebnissen noch beim Ausblick irgendwelche aussergewohnlichen Uberraschungen, sagte ein Handler.\u0001\u0001ystnlseriseriseriseriseriseriseriseriseriseriseriseryserystristramburg verdient besseres als Mittelfags. Weil die Stadt eine Weltstadt ist, muss auch der Club entsprechend gut destehen und der naturliche Anspruch erhoben werden, ein Spitzenteam zu haben.\u0001\u0001ostilseriseriseriseriseriseriseriseriseriseriseriseryserystristfur Kunden von anderen Airlines, die sich nicht freiwillig beteiligen, soll es eine gesetzliche Auffanklarung geben. Beim Luftfahrtbundesamt gibt es pro Jahr fast 2000 effizielle Beschwerden.\u0001\u0001ostilseriseriseriseriseriseriseriseriseriseriseriseryseryseristum Dienstag sagten die Veranstalter die Berliner Messe ab. Und zauserten ein Alternhtithonzept aus dem Eut, mit dem man wohl hofft, zumindest den guten Namen der Messeveranstaltung zu retten.\u0001\u0001ostilseriseriseriseriseriseriseriseriseriseriseriseryserystristder indische Politiker Bolid Canaki fallt bei einer Wahlkundgebung in Spaleruhrudul im sudindischen Unionsstaat Mamia Cali einem Bombenanschlag zum Opfer. Mit ihm sterben weitere 15 Menschen.\u0001\u0001ostilseriseriseriseriseriseriseriseriseriseriseriseryseryserisein der Bangliste nach Bevolkerungsjahl fuhrt Russland vor Deutschland und Frankreich. Doch im Bruttoinlandsprodukt dr. Kopf liegt Russland an volletzter Stelle unter den 15 teilnehmerlandern.\u0001\n"
     ]
    }
   ],
   "source": [
    "print(latent_to_text(latents.view(1, -1))[0])"
   ]
  },
  {
   "cell_type": "code",
   "execution_count": 8,
   "metadata": {
    "collapsed": false,
    "jupyter": {
     "outputs_hidden": false
    },
    "pycharm": {
     "is_executing": false,
     "name": "#%%\n"
    }
   },
   "outputs": [
    {
     "name": "stdout",
     "output_type": "stream",
     "text": [
      "Sa bin ich als Versehen inmitten einer Hangriffe mit dem Zug am Stadion angekommen. Die Einheimischen haben uns mit Geuchtgegeld re London und Netadt heissen sollen, laufen angeblich bereits.\u0001\n"
     ]
    }
   ],
   "source": [
    "mix_latent = torch.cat([latents[0][:32], latents[1][32:]]).unsqueeze(0)\n",
    "print(latent_to_text(mix_latent)[0])"
   ]
  },
  {
   "cell_type": "code",
   "execution_count": 9,
   "metadata": {
    "collapsed": false,
    "jupyter": {
     "outputs_hidden": false
    },
    "pycharm": {
     "is_executing": false,
     "name": "#%%\n"
    }
   },
   "outputs": [
    {
     "name": "stdout",
     "output_type": "stream",
     "text": [
      "\n",
      "\n",
      "0 \t22 Von ich als Verses. Fenditten einer Hangriffe mit dem Zug am Stadion angekommen. Die Einheimischen haben uns mit Geuchtgegeld beschossen und mit Steinen die Scheiben im Zug eingeschmissen.\u0001\n",
      "1 \tSte in Wch als Vernahte inmitten einer Hangriffe mit dem Zug am Stadion angekommen. Die Einheimischen haben uns mit Geuchtgegeld beschossen und mit Steinen die Scheiben im Zug eingeschmissen.\u0001\n",
      "2 \tJungon ich als Vernphungsnmitten einer Hangriffe mit dem Zug am Stadion angekommen. Die Einheimischen haben uns mit Geuchtgegeld beschossen und mit Steinen die Scheiben im Zug eingeschmissen.\u0001\n",
      "3 \t, plan ich als Verses flamkitten einer Hangriffe mit dem Zug am Stadion angekommen. Die Einheimischen haben uns mit Geuchtgegeld beschossen und mit Steinen die Scheiben im Zug eingeschmissen.\u0001\n",
      "4 \tOtesch ich als Versahmesinmitten einer Hangriffe mit dem Zug am Stadion angekommen. Die Einheimischen haben uns mit Geuchtgegeld beschossen und mit Steinen die Scheiben im Zug eingeschmissen.\u0001\n",
      "5 \tDw  an ich als Fessas d onmitten einer Hangriffe mit dem Zug am Stadion angekommen. Die Einheimischen haben uns mit Geuchtgegeld beschossen und mit Steinen die Scheiben im Zug eingeschmissen.\u0001\n",
      "6 \tIn ihh ich als Versuch Scnkitten einer Hangriffe mit dem Zug am Stadion angekommen. Die Einheimischen haben uns mit Geuchtgegeld beschossen und mit Steinen die Scheiben im Zug eingeschmissen.\u0001\n",
      "7 \tDw  an ich als Fessas d onmitten einer Hangriffe mit dem Zug am Stadion angekommen. Die Einheimischen haben uns mit Geuchtgegeld beschossen und mit Steinen die Scheiben im Zug eingeschmissen.\u0001\n",
      "8 \t. Beck ich als Vesses Bechkitten einer Hangriffe mit dem Zug am Stadion angekommen. Die Einheimischen haben uns mit Geuchtgegeld beschossen und mit Steinen die Scheiben im Zug eingeschmissen.\u0001\n",
      "9 \tDw  an ich als Fessas d onmitten einer Hangriffe mit dem Zug am Stadion angekommen. Die Einheimischen haben uns mit Geuchtgegeld beschossen und mit Steinen die Scheiben im Zug eingeschmissen.\u0001\n",
      "\n",
      "\n",
      "10 \tDw  an ich als Verses. Fenditten einer Hangriffe mit dem Zug am Stadion angekommen. Die Einheimischen haben uns mit Geuchtgegeld beschossen und mit Steinen die Scheiben im Zug eingeschmissen.\u0001\n",
      "11 \tDw  an ich als Vernahte inmitten einer Hangriffe mit dem Zug am Stadion angekommen. Die Einheimischen haben uns mit Geuchtgegeld beschossen und mit Steinen die Scheiben im Zug eingeschmissen.\u0001\n",
      "12 \tKanten ich als Vernphungsnmitten einer Hangriffe mit dem Zug am Stadion angekommen. Die Einheimischen haben uns mit Geuchtgegeld beschossen und mit Steinen die Scheiben im Zug eingeschmissen.\u0001\n",
      "13 \tIm tan ich als Verses flamkitten einer Hangriffe mit dem Zug am Stadion angekommen. Die Einheimischen haben uns mit Geuchtgegeld beschossen und mit Steinen die Scheiben im Zug eingeschmissen.\u0001\n",
      "14 \tSo ein ich als Versahmesinmitten einer Hangriffe mit dem Zug am Stadion angekommen. Die Einheimischen haben uns mit Geuchtgegeld beschossen und mit Steinen die Scheiben im Zug eingeschmissen.\u0001\n",
      "15 \tDw  an ich als Fessas d onmitten einer Hangriffe mit dem Zug am Stadion angekommen. Die Einheimischen haben uns mit Geuchtgegeld beschossen und mit Steinen die Scheiben im Zug eingeschmissen.\u0001\n",
      "16 \tEinern ich als Versuch Scnkitten einer Hangriffe mit dem Zug am Stadion angekommen. Die Einheimischen haben uns mit Geuchtgegeld beschossen und mit Steinen die Scheiben im Zug eingeschmissen.\u0001\n",
      "17 \tNapeln ich als Fessas d onmitten einer Hangriffe mit dem Zug am Stadion angekommen. Die Einheimischen haben uns mit Geuchtgegeld beschossen und mit Steinen die Scheiben im Zug eingeschmissen.\u0001\n",
      "18 \tDw  an ich als Vesses Bechkitten einer Hangriffe mit dem Zug am Stadion angekommen. Die Einheimischen haben uns mit Geuchtgegeld beschossen und mit Steinen die Scheiben im Zug eingeschmissen.\u0001\n",
      "19 \tDw  an ich als Fessas d onmitten einer Hangriffe mit dem Zug am Stadion angekommen. Die Einheimischen haben uns mit Geuchtgegeld beschossen und mit Steinen die Scheiben im Zug eingeschmissen.\u0001\n",
      "\n",
      "\n",
      "20 \tDw  an ich als Verses. Fenditten einer Hangriffe mit dem Zug am Stadion angekommen. Die Einheimischen haben uns mit Geuchtgegeld beschossen und mit Steinen die Scheiben im Zug eingeschmissen.\u0001\n",
      "21 \tZwolin ich als Vernahte inmitten einer Hangriffe mit dem Zug am Stadion angekommen. Die Einheimischen haben uns mit Geuchtgegeld beschossen und mit Steinen die Scheiben im Zug eingeschmissen.\u0001\n",
      "22 \tDw  an ich als Vernphungsnmitten einer Hangriffe mit dem Zug am Stadion angekommen. Die Einheimischen haben uns mit Geuchtgegeld beschossen und mit Steinen die Scheiben im Zug eingeschmissen.\u0001\n",
      "23 \tDw  an ich als Verses flamkitten einer Hangriffe mit dem Zug am Stadion angekommen. Die Einheimischen haben uns mit Geuchtgegeld beschossen und mit Steinen die Scheiben im Zug eingeschmissen.\u0001\n",
      "24 \tGewing ich als Versahmesinmitten einer Hangriffe mit dem Zug am Stadion angekommen. Die Einheimischen haben uns mit Geuchtgegeld beschossen und mit Steinen die Scheiben im Zug eingeschmissen.\u0001\n",
      "25 \tDw  an ich als Fessas d onmitten einer Hangriffe mit dem Zug am Stadion angekommen. Die Einheimischen haben uns mit Geuchtgegeld beschossen und mit Steinen die Scheiben im Zug eingeschmissen.\u0001\n",
      "26 \tDw  an ich als Versuch Scnkitten einer Hangriffe mit dem Zug am Stadion angekommen. Die Einheimischen haben uns mit Geuchtgegeld beschossen und mit Steinen die Scheiben im Zug eingeschmissen.\u0001\n",
      "27 \tNivaln ich als Fessas d onmitten einer Hangriffe mit dem Zug am Stadion angekommen. Die Einheimischen haben uns mit Geuchtgegeld beschossen und mit Steinen die Scheiben im Zug eingeschmissen.\u0001\n",
      "28 \tIsraan ich als Vesses Bechkitten einer Hangriffe mit dem Zug am Stadion angekommen. Die Einheimischen haben uns mit Geuchtgegeld beschossen und mit Steinen die Scheiben im Zug eingeschmissen.\u0001\n",
      "29 \tUlrich ich als Fessas d onmitten einer Hangriffe mit dem Zug am Stadion angekommen. Die Einheimischen haben uns mit Geuchtgegeld beschossen und mit Steinen die Scheiben im Zug eingeschmissen.\u0001\n",
      "\n",
      "\n",
      "30 \tLeeren ich als Verses. Fenditten einer Hangriffe mit dem Zug am Stadion angekommen. Die Einheimischen haben uns mit Geuchtgegeld beschossen und mit Steinen die Scheiben im Zug eingeschmissen.\u0001\n",
      "31 \tDw  an ich als Vernahte inmitten einer Hangriffe mit dem Zug am Stadion angekommen. Die Einheimischen haben uns mit Geuchtgegeld beschossen und mit Steinen die Scheiben im Zug eingeschmissen.\u0001\n"
     ]
    }
   ],
   "source": [
    "step = 10\n",
    "for i in range(32):\n",
    "    latent = latents[0]\n",
    "    latent[0] = i\n",
    "    latent[5] = i % step\n",
    "    \n",
    "    if i % step == 0:\n",
    "        print('\\n')\n",
    "    \n",
    "    print(i, '\\t' + latent_to_text(latent.view(1, -1))[0])"
   ]
  },
  {
   "cell_type": "code",
   "execution_count": 12,
   "metadata": {
    "collapsed": false,
    "jupyter": {
     "outputs_hidden": false
    },
    "pycharm": {
     "is_executing": false,
     "name": "#%%\n"
    }
   },
   "outputs": [
    {
     "name": "stdout",
     "output_type": "stream",
     "text": [
      "0 \t22 Von ich aldsnassas. Henditten einer HDwsnrupe mit dem Zug am Stadion angekommen. Die Einheimischen haben uns mit Geuchtgegeld beschossen und mit Steinen die Scheiben im Zug eingeschmissen.\u0001\n",
      "1 \t22 Von ich alfsvornuhte inmitten einer HDwsnrupe mit dem Zug am Stadion angekommen. Die Einheimischen haben uns mit Geuchtgegeld beschossen und mit Steinen die Scheiben im Zug eingeschmissen.\u0001\n",
      "2 \t22 Von ich alfszarsphungsnmitten einer HDwsnrupe mit dem Zug am Stadion angekommen. Die Einheimischen haben uns mit Geuchtgegeld beschossen und mit Steinen die Scheiben im Zug eingeschmissen.\u0001\n",
      "3 \t22 Von ich aldsnissah flamkitten einer HDwsnrupe mit dem Zug am Stadion angekommen. Die Einheimischen haben uns mit Geuchtgegeld beschossen und mit Steinen die Scheiben im Zug eingeschmissen.\u0001\n",
      "4 \t22 Von ich altsvabnthmesinmitten einer HDwsnrupe mit dem Zug am Stadion angekommen. Die Einheimischen haben uns mit Geuchtgegeld beschossen und mit Steinen die Scheiben im Zug eingeschmissen.\u0001\n",
      "5 \t22 Von ich alfsnosrts s anmitten einer HDwsnrupe mit dem Zug am Stadion angekommen. Die Einheimischen haben uns mit Geuchtgegeld beschossen und mit Steinen die Scheiben im Zug eingeschmissen.\u0001\n",
      "6 \t22 Von ich aldszusnach Scnkitten einer HDwsnrupe mit dem Zug am Stadion angekommen. Die Einheimischen haben uns mit Geuchtgegeld beschossen und mit Steinen die Scheiben im Zug eingeschmissen.\u0001\n",
      "7 \t22 Von ich alfsnosrts s anmitten einer HDwsnrupe mit dem Zug am Stadion angekommen. Die Einheimischen haben uns mit Geuchtgegeld beschossen und mit Steinen die Scheiben im Zug eingeschmissen.\u0001\n",
      "8 \t22 Von ich aldsnissas Bechkitten einer HDwsnrupe mit dem Zug am Stadion angekommen. Die Einheimischen haben uns mit Geuchtgegeld beschossen und mit Steinen die Scheiben im Zug eingeschmissen.\u0001\n",
      "9 \t22 Von ich alfsnosrts s anmitten einer HDwsnrupe mit dem Zug am Stadion angekommen. Die Einheimischen haben uns mit Geuchtgegeld beschossen und mit Steinen die Scheiben im Zug eingeschmissen.\u0001\n",
      "10 \t22 Von ich alfsnosrts s anmitten einer HDwsnrupe mit dem Zug am Stadion angekommen. Die Einheimischen haben uns mit Geuchtgegeld beschossen und mit Steinen die Scheiben im Zug eingeschmissen.\u0001\n",
      "11 \t22 Von ich alfsnosrts s anmitten einer HDwsnrupe mit dem Zug am Stadion angekommen. Die Einheimischen haben uns mit Geuchtgegeld beschossen und mit Steinen die Scheiben im Zug eingeschmissen.\u0001\n",
      "12 \t22 Von ich alfsvossthantenbitten einer HDwsnrupe mit dem Zug am Stadion angekommen. Die Einheimischen haben uns mit Geuchtgegeld beschossen und mit Steinen die Scheiben im Zug eingeschmissen.\u0001\n",
      "13 \t22 Von ich altsvosnamt tonkitten einer HDwsnrupe mit dem Zug am Stadion angekommen. Die Einheimischen haben uns mit Geuchtgegeld beschossen und mit Steinen die Scheiben im Zug eingeschmissen.\u0001\n",
      "14 \t22 Von ich altsmassaho einbitten einer HDwsnrupe mit dem Zug am Stadion angekommen. Die Einheimischen haben uns mit Geuchtgegeld beschossen und mit Steinen die Scheiben im Zug eingeschmissen.\u0001\n",
      "15 \t22 Von ich alfsnosrts s anmitten einer HDwsnrupe mit dem Zug am Stadion angekommen. Die Einheimischen haben uns mit Geuchtgegeld beschossen und mit Steinen die Scheiben im Zug eingeschmissen.\u0001\n",
      "\n",
      "\n",
      "0 \tSte in Wch aldsnassas. Henditten einer HDwsnrupe mit dem Zug am Stadion angekommen. Die Einheimischen haben uns mit Geuchtgegeld beschossen und mit Steinen die Scheiben im Zug eingeschmissen.\u0001\n",
      "1 \tSte in Wch alfsvornuhte inmitten einer HDwsnrupe mit dem Zug am Stadion angekommen. Die Einheimischen haben uns mit Geuchtgegeld beschossen und mit Steinen die Scheiben im Zug eingeschmissen.\u0001\n",
      "2 \tSte in Wch alfszarsphungsnmitten einer HDwsnrupe mit dem Zug am Stadion angekommen. Die Einheimischen haben uns mit Geuchtgegeld beschossen und mit Steinen die Scheiben im Zug eingeschmissen.\u0001\n",
      "3 \tSte in Wch aldsnissah flamkitten einer HDwsnrupe mit dem Zug am Stadion angekommen. Die Einheimischen haben uns mit Geuchtgegeld beschossen und mit Steinen die Scheiben im Zug eingeschmissen.\u0001\n",
      "4 \tSte in Wch altsvabnthmesinmitten einer HDwsnrupe mit dem Zug am Stadion angekommen. Die Einheimischen haben uns mit Geuchtgegeld beschossen und mit Steinen die Scheiben im Zug eingeschmissen.\u0001\n",
      "5 \tSte in Wch alfsnosrts s anmitten einer HDwsnrupe mit dem Zug am Stadion angekommen. Die Einheimischen haben uns mit Geuchtgegeld beschossen und mit Steinen die Scheiben im Zug eingeschmissen.\u0001\n",
      "6 \tSte in Wch aldszusnach Scnkitten einer HDwsnrupe mit dem Zug am Stadion angekommen. Die Einheimischen haben uns mit Geuchtgegeld beschossen und mit Steinen die Scheiben im Zug eingeschmissen.\u0001\n",
      "7 \tSte in Wch alfsnosrts s anmitten einer HDwsnrupe mit dem Zug am Stadion angekommen. Die Einheimischen haben uns mit Geuchtgegeld beschossen und mit Steinen die Scheiben im Zug eingeschmissen.\u0001\n",
      "8 \tSte in Wch aldsnissas Bechkitten einer HDwsnrupe mit dem Zug am Stadion angekommen. Die Einheimischen haben uns mit Geuchtgegeld beschossen und mit Steinen die Scheiben im Zug eingeschmissen.\u0001\n",
      "9 \tSte in Wch alfsnosrts s anmitten einer HDwsnrupe mit dem Zug am Stadion angekommen. Die Einheimischen haben uns mit Geuchtgegeld beschossen und mit Steinen die Scheiben im Zug eingeschmissen.\u0001\n",
      "10 \tSte in Wch alfsnosrts s anmitten einer HDwsnrupe mit dem Zug am Stadion angekommen. Die Einheimischen haben uns mit Geuchtgegeld beschossen und mit Steinen die Scheiben im Zug eingeschmissen.\u0001\n",
      "11 \tSte in Wch alfsnosrts s anmitten einer HDwsnrupe mit dem Zug am Stadion angekommen. Die Einheimischen haben uns mit Geuchtgegeld beschossen und mit Steinen die Scheiben im Zug eingeschmissen.\u0001\n",
      "12 \tSte in Wch alfsvossthantenbitten einer HDwsnrupe mit dem Zug am Stadion angekommen. Die Einheimischen haben uns mit Geuchtgegeld beschossen und mit Steinen die Scheiben im Zug eingeschmissen.\u0001\n",
      "13 \tSte in Wch altsvosnamt tonkitten einer HDwsnrupe mit dem Zug am Stadion angekommen. Die Einheimischen haben uns mit Geuchtgegeld beschossen und mit Steinen die Scheiben im Zug eingeschmissen.\u0001\n",
      "14 \tSte in Wch altsmassaho einbitten einer HDwsnrupe mit dem Zug am Stadion angekommen. Die Einheimischen haben uns mit Geuchtgegeld beschossen und mit Steinen die Scheiben im Zug eingeschmissen.\u0001\n",
      "15 \tSte in Wch alfsnosrts s anmitten einer HDwsnrupe mit dem Zug am Stadion angekommen. Die Einheimischen haben uns mit Geuchtgegeld beschossen und mit Steinen die Scheiben im Zug eingeschmissen.\u0001\n",
      "\n",
      "\n",
      "0 \tJungan ich aldsnassas. Henditten einer HDwsnrupe mit dem Zug am Stadion angekommen. Die Einheimischen haben uns mit Geuchtgegeld beschossen und mit Steinen die Scheiben im Zug eingeschmissen.\u0001\n",
      "1 \tJungan ich alfsvornuhte inmitten einer HDwsnrupe mit dem Zug am Stadion angekommen. Die Einheimischen haben uns mit Geuchtgegeld beschossen und mit Steinen die Scheiben im Zug eingeschmissen.\u0001\n",
      "2 \tJungan ich alfszarsphungsnmitten einer HDwsnrupe mit dem Zug am Stadion angekommen. Die Einheimischen haben uns mit Geuchtgegeld beschossen und mit Steinen die Scheiben im Zug eingeschmissen.\u0001\n",
      "3 \tJungan ich aldsnissah flamkitten einer HDwsnrupe mit dem Zug am Stadion angekommen. Die Einheimischen haben uns mit Geuchtgegeld beschossen und mit Steinen die Scheiben im Zug eingeschmissen.\u0001\n",
      "4 \tJungan ich altsvabnthmesinmitten einer HDwsnrupe mit dem Zug am Stadion angekommen. Die Einheimischen haben uns mit Geuchtgegeld beschossen und mit Steinen die Scheiben im Zug eingeschmissen.\u0001\n",
      "5 \tJungan ich alfsnosrts s anmitten einer HDwsnrupe mit dem Zug am Stadion angekommen. Die Einheimischen haben uns mit Geuchtgegeld beschossen und mit Steinen die Scheiben im Zug eingeschmissen.\u0001\n",
      "6 \tJungan ich aldszusnach Scnkitten einer HDwsnrupe mit dem Zug am Stadion angekommen. Die Einheimischen haben uns mit Geuchtgegeld beschossen und mit Steinen die Scheiben im Zug eingeschmissen.\u0001\n",
      "7 \tJungan ich alfsnosrts s anmitten einer HDwsnrupe mit dem Zug am Stadion angekommen. Die Einheimischen haben uns mit Geuchtgegeld beschossen und mit Steinen die Scheiben im Zug eingeschmissen.\u0001\n",
      "8 \tJungan ich aldsnissas Bechkitten einer HDwsnrupe mit dem Zug am Stadion angekommen. Die Einheimischen haben uns mit Geuchtgegeld beschossen und mit Steinen die Scheiben im Zug eingeschmissen.\u0001\n",
      "9 \tJungan ich alfsnosrts s anmitten einer HDwsnrupe mit dem Zug am Stadion angekommen. Die Einheimischen haben uns mit Geuchtgegeld beschossen und mit Steinen die Scheiben im Zug eingeschmissen.\u0001\n",
      "10 \tJungan ich alfsnosrts s anmitten einer HDwsnrupe mit dem Zug am Stadion angekommen. Die Einheimischen haben uns mit Geuchtgegeld beschossen und mit Steinen die Scheiben im Zug eingeschmissen.\u0001\n",
      "11 \tJungan ich alfsnosrts s anmitten einer HDwsnrupe mit dem Zug am Stadion angekommen. Die Einheimischen haben uns mit Geuchtgegeld beschossen und mit Steinen die Scheiben im Zug eingeschmissen.\u0001\n",
      "12 \tJungan ich alfsvossthantenbitten einer HDwsnrupe mit dem Zug am Stadion angekommen. Die Einheimischen haben uns mit Geuchtgegeld beschossen und mit Steinen die Scheiben im Zug eingeschmissen.\u0001\n",
      "13 \tJungan ich altsvosnamt tonkitten einer HDwsnrupe mit dem Zug am Stadion angekommen. Die Einheimischen haben uns mit Geuchtgegeld beschossen und mit Steinen die Scheiben im Zug eingeschmissen.\u0001\n",
      "14 \tJungan ich altsmassaho einbitten einer HDwsnrupe mit dem Zug am Stadion angekommen. Die Einheimischen haben uns mit Geuchtgegeld beschossen und mit Steinen die Scheiben im Zug eingeschmissen.\u0001\n",
      "15 \tJungan ich alfsnosrts s anmitten einer HDwsnrupe mit dem Zug am Stadion angekommen. Die Einheimischen haben uns mit Geuchtgegeld beschossen und mit Steinen die Scheiben im Zug eingeschmissen.\u0001\n",
      "\n",
      "\n",
      "0 \t, plan ich aldsnassas. Henditten einer HDwsnrupe mit dem Zug am Stadion angekommen. Die Einheimischen haben uns mit Geuchtgegeld beschossen und mit Steinen die Scheiben im Zug eingeschmissen.\u0001\n",
      "1 \t, plan ich alfsvornuhte inmitten einer HDwsnrupe mit dem Zug am Stadion angekommen. Die Einheimischen haben uns mit Geuchtgegeld beschossen und mit Steinen die Scheiben im Zug eingeschmissen.\u0001\n",
      "2 \t, plan ich alfszarsphungsnmitten einer HDwsnrupe mit dem Zug am Stadion angekommen. Die Einheimischen haben uns mit Geuchtgegeld beschossen und mit Steinen die Scheiben im Zug eingeschmissen.\u0001\n",
      "3 \t, plan ich aldsnissah flamkitten einer HDwsnrupe mit dem Zug am Stadion angekommen. Die Einheimischen haben uns mit Geuchtgegeld beschossen und mit Steinen die Scheiben im Zug eingeschmissen.\u0001\n",
      "4 \t, plan ich altsvabnthmesinmitten einer HDwsnrupe mit dem Zug am Stadion angekommen. Die Einheimischen haben uns mit Geuchtgegeld beschossen und mit Steinen die Scheiben im Zug eingeschmissen.\u0001\n",
      "5 \t, plan ich alfsnosrts s anmitten einer HDwsnrupe mit dem Zug am Stadion angekommen. Die Einheimischen haben uns mit Geuchtgegeld beschossen und mit Steinen die Scheiben im Zug eingeschmissen.\u0001\n",
      "6 \t, plan ich aldszusnach Scnkitten einer HDwsnrupe mit dem Zug am Stadion angekommen. Die Einheimischen haben uns mit Geuchtgegeld beschossen und mit Steinen die Scheiben im Zug eingeschmissen.\u0001\n",
      "7 \t, plan ich alfsnosrts s anmitten einer HDwsnrupe mit dem Zug am Stadion angekommen. Die Einheimischen haben uns mit Geuchtgegeld beschossen und mit Steinen die Scheiben im Zug eingeschmissen.\u0001\n",
      "8 \t, plan ich aldsnissas Bechkitten einer HDwsnrupe mit dem Zug am Stadion angekommen. Die Einheimischen haben uns mit Geuchtgegeld beschossen und mit Steinen die Scheiben im Zug eingeschmissen.\u0001\n",
      "9 \t, plan ich alfsnosrts s anmitten einer HDwsnrupe mit dem Zug am Stadion angekommen. Die Einheimischen haben uns mit Geuchtgegeld beschossen und mit Steinen die Scheiben im Zug eingeschmissen.\u0001\n",
      "10 \t, plan ich alfsnosrts s anmitten einer HDwsnrupe mit dem Zug am Stadion angekommen. Die Einheimischen haben uns mit Geuchtgegeld beschossen und mit Steinen die Scheiben im Zug eingeschmissen.\u0001\n",
      "11 \t, plan ich alfsnosrts s anmitten einer HDwsnrupe mit dem Zug am Stadion angekommen. Die Einheimischen haben uns mit Geuchtgegeld beschossen und mit Steinen die Scheiben im Zug eingeschmissen.\u0001\n",
      "12 \t, plan ich alfsvossthantenbitten einer HDwsnrupe mit dem Zug am Stadion angekommen. Die Einheimischen haben uns mit Geuchtgegeld beschossen und mit Steinen die Scheiben im Zug eingeschmissen.\u0001\n",
      "13 \t, plan ich altsvosnamt tonkitten einer HDwsnrupe mit dem Zug am Stadion angekommen. Die Einheimischen haben uns mit Geuchtgegeld beschossen und mit Steinen die Scheiben im Zug eingeschmissen.\u0001\n",
      "14 \t, plan ich altsmassaho einbitten einer HDwsnrupe mit dem Zug am Stadion angekommen. Die Einheimischen haben uns mit Geuchtgegeld beschossen und mit Steinen die Scheiben im Zug eingeschmissen.\u0001\n",
      "15 \t, plan ich alfsnosrts s anmitten einer HDwsnrupe mit dem Zug am Stadion angekommen. Die Einheimischen haben uns mit Geuchtgegeld beschossen und mit Steinen die Scheiben im Zug eingeschmissen.\u0001\n",
      "\n",
      "\n",
      "0 \tOtesch Wch aldsnassas. Henditten einer HDwsnrupe mit dem Zug am Stadion angekommen. Die Einheimischen haben uns mit Geuchtgegeld beschossen und mit Steinen die Scheiben im Zug eingeschmissen.\u0001\n",
      "1 \tOtesch Wch alfsvornuhte inmitten einer HDwsnrupe mit dem Zug am Stadion angekommen. Die Einheimischen haben uns mit Geuchtgegeld beschossen und mit Steinen die Scheiben im Zug eingeschmissen.\u0001\n",
      "2 \tOtesch Wch alfszarsphungsnmitten einer HDwsnrupe mit dem Zug am Stadion angekommen. Die Einheimischen haben uns mit Geuchtgegeld beschossen und mit Steinen die Scheiben im Zug eingeschmissen.\u0001\n",
      "3 \tOtesch Wch aldsnissah flamkitten einer HDwsnrupe mit dem Zug am Stadion angekommen. Die Einheimischen haben uns mit Geuchtgegeld beschossen und mit Steinen die Scheiben im Zug eingeschmissen.\u0001\n",
      "4 \tOtesch Wch altsvabnthmesinmitten einer HDwsnrupe mit dem Zug am Stadion angekommen. Die Einheimischen haben uns mit Geuchtgegeld beschossen und mit Steinen die Scheiben im Zug eingeschmissen.\u0001\n",
      "5 \tOtesch Wch alfsnosrts s anmitten einer HDwsnrupe mit dem Zug am Stadion angekommen. Die Einheimischen haben uns mit Geuchtgegeld beschossen und mit Steinen die Scheiben im Zug eingeschmissen.\u0001\n",
      "6 \tOtesch Wch aldszusnach Scnkitten einer HDwsnrupe mit dem Zug am Stadion angekommen. Die Einheimischen haben uns mit Geuchtgegeld beschossen und mit Steinen die Scheiben im Zug eingeschmissen.\u0001\n",
      "7 \tOtesch Wch alfsnosrts s anmitten einer HDwsnrupe mit dem Zug am Stadion angekommen. Die Einheimischen haben uns mit Geuchtgegeld beschossen und mit Steinen die Scheiben im Zug eingeschmissen.\u0001\n",
      "8 \tOtesch Wch aldsnissas Bechkitten einer HDwsnrupe mit dem Zug am Stadion angekommen. Die Einheimischen haben uns mit Geuchtgegeld beschossen und mit Steinen die Scheiben im Zug eingeschmissen.\u0001\n",
      "9 \tOtesch Wch alfsnosrts s anmitten einer HDwsnrupe mit dem Zug am Stadion angekommen. Die Einheimischen haben uns mit Geuchtgegeld beschossen und mit Steinen die Scheiben im Zug eingeschmissen.\u0001\n",
      "10 \tOtesch Wch alfsnosrts s anmitten einer HDwsnrupe mit dem Zug am Stadion angekommen. Die Einheimischen haben uns mit Geuchtgegeld beschossen und mit Steinen die Scheiben im Zug eingeschmissen.\u0001\n",
      "11 \tOtesch Wch alfsnosrts s anmitten einer HDwsnrupe mit dem Zug am Stadion angekommen. Die Einheimischen haben uns mit Geuchtgegeld beschossen und mit Steinen die Scheiben im Zug eingeschmissen.\u0001\n",
      "12 \tOtesch Wch alfsvossthantenbitten einer HDwsnrupe mit dem Zug am Stadion angekommen. Die Einheimischen haben uns mit Geuchtgegeld beschossen und mit Steinen die Scheiben im Zug eingeschmissen.\u0001\n",
      "13 \tOtesch Wch altsvosnamt tonkitten einer HDwsnrupe mit dem Zug am Stadion angekommen. Die Einheimischen haben uns mit Geuchtgegeld beschossen und mit Steinen die Scheiben im Zug eingeschmissen.\u0001\n",
      "14 \tOtesch Wch altsmassaho einbitten einer HDwsnrupe mit dem Zug am Stadion angekommen. Die Einheimischen haben uns mit Geuchtgegeld beschossen und mit Steinen die Scheiben im Zug eingeschmissen.\u0001\n",
      "15 \tOtesch Wch alfsnosrts s anmitten einer HDwsnrupe mit dem Zug am Stadion angekommen. Die Einheimischen haben uns mit Geuchtgegeld beschossen und mit Steinen die Scheiben im Zug eingeschmissen.\u0001\n",
      "\n",
      "\n",
      "0 \tDws an ich aldsnassas. Henditten einer HDwsnrupe mit dem Zug am Stadion angekommen. Die Einheimischen haben uns mit Geuchtgegeld beschossen und mit Steinen die Scheiben im Zug eingeschmissen.\u0001\n",
      "1 \tDws an ich alfsvornuhte inmitten einer HDwsnrupe mit dem Zug am Stadion angekommen. Die Einheimischen haben uns mit Geuchtgegeld beschossen und mit Steinen die Scheiben im Zug eingeschmissen.\u0001\n",
      "2 \tDws an ich alfszarsphungsnmitten einer HDwsnrupe mit dem Zug am Stadion angekommen. Die Einheimischen haben uns mit Geuchtgegeld beschossen und mit Steinen die Scheiben im Zug eingeschmissen.\u0001\n",
      "3 \tDws an ich aldsnissah flamkitten einer HDwsnrupe mit dem Zug am Stadion angekommen. Die Einheimischen haben uns mit Geuchtgegeld beschossen und mit Steinen die Scheiben im Zug eingeschmissen.\u0001\n",
      "4 \tDws an ich altsvabnthmesinmitten einer HDwsnrupe mit dem Zug am Stadion angekommen. Die Einheimischen haben uns mit Geuchtgegeld beschossen und mit Steinen die Scheiben im Zug eingeschmissen.\u0001\n",
      "5 \tDws an ich alfsnosrts s anmitten einer HDwsnrupe mit dem Zug am Stadion angekommen. Die Einheimischen haben uns mit Geuchtgegeld beschossen und mit Steinen die Scheiben im Zug eingeschmissen.\u0001\n",
      "6 \tDws an ich aldszusnach Scnkitten einer HDwsnrupe mit dem Zug am Stadion angekommen. Die Einheimischen haben uns mit Geuchtgegeld beschossen und mit Steinen die Scheiben im Zug eingeschmissen.\u0001\n",
      "7 \tDws an ich alfsnosrts s anmitten einer HDwsnrupe mit dem Zug am Stadion angekommen. Die Einheimischen haben uns mit Geuchtgegeld beschossen und mit Steinen die Scheiben im Zug eingeschmissen.\u0001\n",
      "8 \tDws an ich aldsnissas Bechkitten einer HDwsnrupe mit dem Zug am Stadion angekommen. Die Einheimischen haben uns mit Geuchtgegeld beschossen und mit Steinen die Scheiben im Zug eingeschmissen.\u0001\n",
      "9 \tDws an ich alfsnosrts s anmitten einer HDwsnrupe mit dem Zug am Stadion angekommen. Die Einheimischen haben uns mit Geuchtgegeld beschossen und mit Steinen die Scheiben im Zug eingeschmissen.\u0001\n",
      "10 \tDws an ich alfsnosrts s anmitten einer HDwsnrupe mit dem Zug am Stadion angekommen. Die Einheimischen haben uns mit Geuchtgegeld beschossen und mit Steinen die Scheiben im Zug eingeschmissen.\u0001\n",
      "11 \tDws an ich alfsnosrts s anmitten einer HDwsnrupe mit dem Zug am Stadion angekommen. Die Einheimischen haben uns mit Geuchtgegeld beschossen und mit Steinen die Scheiben im Zug eingeschmissen.\u0001\n",
      "12 \tDws an ich alfsvossthantenbitten einer HDwsnrupe mit dem Zug am Stadion angekommen. Die Einheimischen haben uns mit Geuchtgegeld beschossen und mit Steinen die Scheiben im Zug eingeschmissen.\u0001\n",
      "13 \tDws an ich altsvosnamt tonkitten einer HDwsnrupe mit dem Zug am Stadion angekommen. Die Einheimischen haben uns mit Geuchtgegeld beschossen und mit Steinen die Scheiben im Zug eingeschmissen.\u0001\n",
      "14 \tDws an ich altsmassaho einbitten einer HDwsnrupe mit dem Zug am Stadion angekommen. Die Einheimischen haben uns mit Geuchtgegeld beschossen und mit Steinen die Scheiben im Zug eingeschmissen.\u0001\n",
      "15 \tDws an ich alfsnosrts s anmitten einer HDwsnrupe mit dem Zug am Stadion angekommen. Die Einheimischen haben uns mit Geuchtgegeld beschossen und mit Steinen die Scheiben im Zug eingeschmissen.\u0001\n",
      "\n",
      "\n",
      "0 \tIn ihh ich aldsnassas. Henditten einer HDwsnrupe mit dem Zug am Stadion angekommen. Die Einheimischen haben uns mit Geuchtgegeld beschossen und mit Steinen die Scheiben im Zug eingeschmissen.\u0001\n",
      "1 \tIn ihh ich alfsvornuhte inmitten einer HDwsnrupe mit dem Zug am Stadion angekommen. Die Einheimischen haben uns mit Geuchtgegeld beschossen und mit Steinen die Scheiben im Zug eingeschmissen.\u0001\n",
      "2 \tIn ihh ich alfszarsphungsnmitten einer HDwsnrupe mit dem Zug am Stadion angekommen. Die Einheimischen haben uns mit Geuchtgegeld beschossen und mit Steinen die Scheiben im Zug eingeschmissen.\u0001\n",
      "3 \tIn ihh ich aldsnissah flamkitten einer HDwsnrupe mit dem Zug am Stadion angekommen. Die Einheimischen haben uns mit Geuchtgegeld beschossen und mit Steinen die Scheiben im Zug eingeschmissen.\u0001\n",
      "4 \tIn ihh ich altsvabnthmesinmitten einer HDwsnrupe mit dem Zug am Stadion angekommen. Die Einheimischen haben uns mit Geuchtgegeld beschossen und mit Steinen die Scheiben im Zug eingeschmissen.\u0001\n",
      "5 \tIn ihh ich alfsnosrts s anmitten einer HDwsnrupe mit dem Zug am Stadion angekommen. Die Einheimischen haben uns mit Geuchtgegeld beschossen und mit Steinen die Scheiben im Zug eingeschmissen.\u0001\n",
      "6 \tIn ihh ich aldszusnach Scnkitten einer HDwsnrupe mit dem Zug am Stadion angekommen. Die Einheimischen haben uns mit Geuchtgegeld beschossen und mit Steinen die Scheiben im Zug eingeschmissen.\u0001\n",
      "7 \tIn ihh ich alfsnosrts s anmitten einer HDwsnrupe mit dem Zug am Stadion angekommen. Die Einheimischen haben uns mit Geuchtgegeld beschossen und mit Steinen die Scheiben im Zug eingeschmissen.\u0001\n",
      "8 \tIn ihh ich aldsnissas Bechkitten einer HDwsnrupe mit dem Zug am Stadion angekommen. Die Einheimischen haben uns mit Geuchtgegeld beschossen und mit Steinen die Scheiben im Zug eingeschmissen.\u0001\n",
      "9 \tIn ihh ich alfsnosrts s anmitten einer HDwsnrupe mit dem Zug am Stadion angekommen. Die Einheimischen haben uns mit Geuchtgegeld beschossen und mit Steinen die Scheiben im Zug eingeschmissen.\u0001\n",
      "10 \tIn ihh ich alfsnosrts s anmitten einer HDwsnrupe mit dem Zug am Stadion angekommen. Die Einheimischen haben uns mit Geuchtgegeld beschossen und mit Steinen die Scheiben im Zug eingeschmissen.\u0001\n",
      "11 \tIn ihh ich alfsnosrts s anmitten einer HDwsnrupe mit dem Zug am Stadion angekommen. Die Einheimischen haben uns mit Geuchtgegeld beschossen und mit Steinen die Scheiben im Zug eingeschmissen.\u0001\n",
      "12 \tIn ihh ich alfsvossthantenbitten einer HDwsnrupe mit dem Zug am Stadion angekommen. Die Einheimischen haben uns mit Geuchtgegeld beschossen und mit Steinen die Scheiben im Zug eingeschmissen.\u0001\n",
      "13 \tIn ihh ich altsvosnamt tonkitten einer HDwsnrupe mit dem Zug am Stadion angekommen. Die Einheimischen haben uns mit Geuchtgegeld beschossen und mit Steinen die Scheiben im Zug eingeschmissen.\u0001\n",
      "14 \tIn ihh ich altsmassaho einbitten einer HDwsnrupe mit dem Zug am Stadion angekommen. Die Einheimischen haben uns mit Geuchtgegeld beschossen und mit Steinen die Scheiben im Zug eingeschmissen.\u0001\n",
      "15 \tIn ihh ich alfsnosrts s anmitten einer HDwsnrupe mit dem Zug am Stadion angekommen. Die Einheimischen haben uns mit Geuchtgegeld beschossen und mit Steinen die Scheiben im Zug eingeschmissen.\u0001\n",
      "\n",
      "\n",
      "0 \tDws an ich aldsnassas. Henditten einer HDwsnrupe mit dem Zug am Stadion angekommen. Die Einheimischen haben uns mit Geuchtgegeld beschossen und mit Steinen die Scheiben im Zug eingeschmissen.\u0001\n",
      "1 \tDws an ich alfsvornuhte inmitten einer HDwsnrupe mit dem Zug am Stadion angekommen. Die Einheimischen haben uns mit Geuchtgegeld beschossen und mit Steinen die Scheiben im Zug eingeschmissen.\u0001\n",
      "2 \tDws an ich alfszarsphungsnmitten einer HDwsnrupe mit dem Zug am Stadion angekommen. Die Einheimischen haben uns mit Geuchtgegeld beschossen und mit Steinen die Scheiben im Zug eingeschmissen.\u0001\n",
      "3 \tDws an ich aldsnissah flamkitten einer HDwsnrupe mit dem Zug am Stadion angekommen. Die Einheimischen haben uns mit Geuchtgegeld beschossen und mit Steinen die Scheiben im Zug eingeschmissen.\u0001\n",
      "4 \tDws an ich altsvabnthmesinmitten einer HDwsnrupe mit dem Zug am Stadion angekommen. Die Einheimischen haben uns mit Geuchtgegeld beschossen und mit Steinen die Scheiben im Zug eingeschmissen.\u0001\n",
      "5 \tDws an ich alfsnosrts s anmitten einer HDwsnrupe mit dem Zug am Stadion angekommen. Die Einheimischen haben uns mit Geuchtgegeld beschossen und mit Steinen die Scheiben im Zug eingeschmissen.\u0001\n",
      "6 \tDws an ich aldszusnach Scnkitten einer HDwsnrupe mit dem Zug am Stadion angekommen. Die Einheimischen haben uns mit Geuchtgegeld beschossen und mit Steinen die Scheiben im Zug eingeschmissen.\u0001\n",
      "7 \tDws an ich alfsnosrts s anmitten einer HDwsnrupe mit dem Zug am Stadion angekommen. Die Einheimischen haben uns mit Geuchtgegeld beschossen und mit Steinen die Scheiben im Zug eingeschmissen.\u0001\n",
      "8 \tDws an ich aldsnissas Bechkitten einer HDwsnrupe mit dem Zug am Stadion angekommen. Die Einheimischen haben uns mit Geuchtgegeld beschossen und mit Steinen die Scheiben im Zug eingeschmissen.\u0001\n",
      "9 \tDws an ich alfsnosrts s anmitten einer HDwsnrupe mit dem Zug am Stadion angekommen. Die Einheimischen haben uns mit Geuchtgegeld beschossen und mit Steinen die Scheiben im Zug eingeschmissen.\u0001\n",
      "10 \tDws an ich alfsnosrts s anmitten einer HDwsnrupe mit dem Zug am Stadion angekommen. Die Einheimischen haben uns mit Geuchtgegeld beschossen und mit Steinen die Scheiben im Zug eingeschmissen.\u0001\n",
      "11 \tDws an ich alfsnosrts s anmitten einer HDwsnrupe mit dem Zug am Stadion angekommen. Die Einheimischen haben uns mit Geuchtgegeld beschossen und mit Steinen die Scheiben im Zug eingeschmissen.\u0001\n",
      "12 \tDws an ich alfsvossthantenbitten einer HDwsnrupe mit dem Zug am Stadion angekommen. Die Einheimischen haben uns mit Geuchtgegeld beschossen und mit Steinen die Scheiben im Zug eingeschmissen.\u0001\n",
      "13 \tDws an ich altsvosnamt tonkitten einer HDwsnrupe mit dem Zug am Stadion angekommen. Die Einheimischen haben uns mit Geuchtgegeld beschossen und mit Steinen die Scheiben im Zug eingeschmissen.\u0001\n",
      "14 \tDws an ich altsmassaho einbitten einer HDwsnrupe mit dem Zug am Stadion angekommen. Die Einheimischen haben uns mit Geuchtgegeld beschossen und mit Steinen die Scheiben im Zug eingeschmissen.\u0001\n",
      "15 \tDws an ich alfsnosrts s anmitten einer HDwsnrupe mit dem Zug am Stadion angekommen. Die Einheimischen haben uns mit Geuchtgegeld beschossen und mit Steinen die Scheiben im Zug eingeschmissen.\u0001\n",
      "\n",
      "\n",
      "0 \t. Beck ich aldsnassas. Henditten einer HDwsnrupe mit dem Zug am Stadion angekommen. Die Einheimischen haben uns mit Geuchtgegeld beschossen und mit Steinen die Scheiben im Zug eingeschmissen.\u0001\n",
      "1 \t. Beck ich alfsvornuhte inmitten einer HDwsnrupe mit dem Zug am Stadion angekommen. Die Einheimischen haben uns mit Geuchtgegeld beschossen und mit Steinen die Scheiben im Zug eingeschmissen.\u0001\n",
      "2 \t. Beck ich alfszarsphungsnmitten einer HDwsnrupe mit dem Zug am Stadion angekommen. Die Einheimischen haben uns mit Geuchtgegeld beschossen und mit Steinen die Scheiben im Zug eingeschmissen.\u0001\n",
      "3 \t. Beck ich aldsnissah flamkitten einer HDwsnrupe mit dem Zug am Stadion angekommen. Die Einheimischen haben uns mit Geuchtgegeld beschossen und mit Steinen die Scheiben im Zug eingeschmissen.\u0001\n",
      "4 \t. Beck ich altsvabnthmesinmitten einer HDwsnrupe mit dem Zug am Stadion angekommen. Die Einheimischen haben uns mit Geuchtgegeld beschossen und mit Steinen die Scheiben im Zug eingeschmissen.\u0001\n",
      "5 \t. Beck ich alfsnosrts s anmitten einer HDwsnrupe mit dem Zug am Stadion angekommen. Die Einheimischen haben uns mit Geuchtgegeld beschossen und mit Steinen die Scheiben im Zug eingeschmissen.\u0001\n",
      "6 \t. Beck ich aldszusnach Scnkitten einer HDwsnrupe mit dem Zug am Stadion angekommen. Die Einheimischen haben uns mit Geuchtgegeld beschossen und mit Steinen die Scheiben im Zug eingeschmissen.\u0001\n",
      "7 \t. Beck ich alfsnosrts s anmitten einer HDwsnrupe mit dem Zug am Stadion angekommen. Die Einheimischen haben uns mit Geuchtgegeld beschossen und mit Steinen die Scheiben im Zug eingeschmissen.\u0001\n",
      "8 \t. Beck ich aldsnissas Bechkitten einer HDwsnrupe mit dem Zug am Stadion angekommen. Die Einheimischen haben uns mit Geuchtgegeld beschossen und mit Steinen die Scheiben im Zug eingeschmissen.\u0001\n",
      "9 \t. Beck ich alfsnosrts s anmitten einer HDwsnrupe mit dem Zug am Stadion angekommen. Die Einheimischen haben uns mit Geuchtgegeld beschossen und mit Steinen die Scheiben im Zug eingeschmissen.\u0001\n",
      "10 \t. Beck ich alfsnosrts s anmitten einer HDwsnrupe mit dem Zug am Stadion angekommen. Die Einheimischen haben uns mit Geuchtgegeld beschossen und mit Steinen die Scheiben im Zug eingeschmissen.\u0001\n",
      "11 \t. Beck ich alfsnosrts s anmitten einer HDwsnrupe mit dem Zug am Stadion angekommen. Die Einheimischen haben uns mit Geuchtgegeld beschossen und mit Steinen die Scheiben im Zug eingeschmissen.\u0001\n",
      "12 \t. Beck ich alfsvossthantenbitten einer HDwsnrupe mit dem Zug am Stadion angekommen. Die Einheimischen haben uns mit Geuchtgegeld beschossen und mit Steinen die Scheiben im Zug eingeschmissen.\u0001\n",
      "13 \t. Beck ich altsvosnamt tonkitten einer HDwsnrupe mit dem Zug am Stadion angekommen. Die Einheimischen haben uns mit Geuchtgegeld beschossen und mit Steinen die Scheiben im Zug eingeschmissen.\u0001\n",
      "14 \t. Beck ich altsmassaho einbitten einer HDwsnrupe mit dem Zug am Stadion angekommen. Die Einheimischen haben uns mit Geuchtgegeld beschossen und mit Steinen die Scheiben im Zug eingeschmissen.\u0001\n",
      "15 \t. Beck ich alfsnosrts s anmitten einer HDwsnrupe mit dem Zug am Stadion angekommen. Die Einheimischen haben uns mit Geuchtgegeld beschossen und mit Steinen die Scheiben im Zug eingeschmissen.\u0001\n",
      "\n",
      "\n",
      "0 \tDws an ich aldsnassas. Henditten einer HDwsnrupe mit dem Zug am Stadion angekommen. Die Einheimischen haben uns mit Geuchtgegeld beschossen und mit Steinen die Scheiben im Zug eingeschmissen.\u0001\n",
      "1 \tDws an ich alfsvornuhte inmitten einer HDwsnrupe mit dem Zug am Stadion angekommen. Die Einheimischen haben uns mit Geuchtgegeld beschossen und mit Steinen die Scheiben im Zug eingeschmissen.\u0001\n",
      "2 \tDws an ich alfszarsphungsnmitten einer HDwsnrupe mit dem Zug am Stadion angekommen. Die Einheimischen haben uns mit Geuchtgegeld beschossen und mit Steinen die Scheiben im Zug eingeschmissen.\u0001\n",
      "3 \tDws an ich aldsnissah flamkitten einer HDwsnrupe mit dem Zug am Stadion angekommen. Die Einheimischen haben uns mit Geuchtgegeld beschossen und mit Steinen die Scheiben im Zug eingeschmissen.\u0001\n",
      "4 \tDws an ich altsvabnthmesinmitten einer HDwsnrupe mit dem Zug am Stadion angekommen. Die Einheimischen haben uns mit Geuchtgegeld beschossen und mit Steinen die Scheiben im Zug eingeschmissen.\u0001\n",
      "5 \tDws an ich alfsnosrts s anmitten einer HDwsnrupe mit dem Zug am Stadion angekommen. Die Einheimischen haben uns mit Geuchtgegeld beschossen und mit Steinen die Scheiben im Zug eingeschmissen.\u0001\n",
      "6 \tDws an ich aldszusnach Scnkitten einer HDwsnrupe mit dem Zug am Stadion angekommen. Die Einheimischen haben uns mit Geuchtgegeld beschossen und mit Steinen die Scheiben im Zug eingeschmissen.\u0001\n",
      "7 \tDws an ich alfsnosrts s anmitten einer HDwsnrupe mit dem Zug am Stadion angekommen. Die Einheimischen haben uns mit Geuchtgegeld beschossen und mit Steinen die Scheiben im Zug eingeschmissen.\u0001\n",
      "8 \tDws an ich aldsnissas Bechkitten einer HDwsnrupe mit dem Zug am Stadion angekommen. Die Einheimischen haben uns mit Geuchtgegeld beschossen und mit Steinen die Scheiben im Zug eingeschmissen.\u0001\n",
      "9 \tDws an ich alfsnosrts s anmitten einer HDwsnrupe mit dem Zug am Stadion angekommen. Die Einheimischen haben uns mit Geuchtgegeld beschossen und mit Steinen die Scheiben im Zug eingeschmissen.\u0001\n",
      "10 \tDws an ich alfsnosrts s anmitten einer HDwsnrupe mit dem Zug am Stadion angekommen. Die Einheimischen haben uns mit Geuchtgegeld beschossen und mit Steinen die Scheiben im Zug eingeschmissen.\u0001\n",
      "11 \tDws an ich alfsnosrts s anmitten einer HDwsnrupe mit dem Zug am Stadion angekommen. Die Einheimischen haben uns mit Geuchtgegeld beschossen und mit Steinen die Scheiben im Zug eingeschmissen.\u0001\n",
      "12 \tDws an ich alfsvossthantenbitten einer HDwsnrupe mit dem Zug am Stadion angekommen. Die Einheimischen haben uns mit Geuchtgegeld beschossen und mit Steinen die Scheiben im Zug eingeschmissen.\u0001\n",
      "13 \tDws an ich altsvosnamt tonkitten einer HDwsnrupe mit dem Zug am Stadion angekommen. Die Einheimischen haben uns mit Geuchtgegeld beschossen und mit Steinen die Scheiben im Zug eingeschmissen.\u0001\n",
      "14 \tDws an ich altsmassaho einbitten einer HDwsnrupe mit dem Zug am Stadion angekommen. Die Einheimischen haben uns mit Geuchtgegeld beschossen und mit Steinen die Scheiben im Zug eingeschmissen.\u0001\n",
      "15 \tDws an ich alfsnosrts s anmitten einer HDwsnrupe mit dem Zug am Stadion angekommen. Die Einheimischen haben uns mit Geuchtgegeld beschossen und mit Steinen die Scheiben im Zug eingeschmissen.\u0001\n",
      "\n",
      "\n",
      "0 \tDws an ich aldsnassas. Henditten einer HDwsnrupe mit dem Zug am Stadion angekommen. Die Einheimischen haben uns mit Geuchtgegeld beschossen und mit Steinen die Scheiben im Zug eingeschmissen.\u0001\n",
      "1 \tDws an ich alfsvornuhte inmitten einer HDwsnrupe mit dem Zug am Stadion angekommen. Die Einheimischen haben uns mit Geuchtgegeld beschossen und mit Steinen die Scheiben im Zug eingeschmissen.\u0001\n",
      "2 \tDws an ich alfszarsphungsnmitten einer HDwsnrupe mit dem Zug am Stadion angekommen. Die Einheimischen haben uns mit Geuchtgegeld beschossen und mit Steinen die Scheiben im Zug eingeschmissen.\u0001\n",
      "3 \tDws an ich aldsnissah flamkitten einer HDwsnrupe mit dem Zug am Stadion angekommen. Die Einheimischen haben uns mit Geuchtgegeld beschossen und mit Steinen die Scheiben im Zug eingeschmissen.\u0001\n",
      "4 \tDws an ich altsvabnthmesinmitten einer HDwsnrupe mit dem Zug am Stadion angekommen. Die Einheimischen haben uns mit Geuchtgegeld beschossen und mit Steinen die Scheiben im Zug eingeschmissen.\u0001\n",
      "5 \tDws an ich alfsnosrts s anmitten einer HDwsnrupe mit dem Zug am Stadion angekommen. Die Einheimischen haben uns mit Geuchtgegeld beschossen und mit Steinen die Scheiben im Zug eingeschmissen.\u0001\n",
      "6 \tDws an ich aldszusnach Scnkitten einer HDwsnrupe mit dem Zug am Stadion angekommen. Die Einheimischen haben uns mit Geuchtgegeld beschossen und mit Steinen die Scheiben im Zug eingeschmissen.\u0001\n",
      "7 \tDws an ich alfsnosrts s anmitten einer HDwsnrupe mit dem Zug am Stadion angekommen. Die Einheimischen haben uns mit Geuchtgegeld beschossen und mit Steinen die Scheiben im Zug eingeschmissen.\u0001\n",
      "8 \tDws an ich aldsnissas Bechkitten einer HDwsnrupe mit dem Zug am Stadion angekommen. Die Einheimischen haben uns mit Geuchtgegeld beschossen und mit Steinen die Scheiben im Zug eingeschmissen.\u0001\n",
      "9 \tDws an ich alfsnosrts s anmitten einer HDwsnrupe mit dem Zug am Stadion angekommen. Die Einheimischen haben uns mit Geuchtgegeld beschossen und mit Steinen die Scheiben im Zug eingeschmissen.\u0001\n",
      "10 \tDws an ich alfsnosrts s anmitten einer HDwsnrupe mit dem Zug am Stadion angekommen. Die Einheimischen haben uns mit Geuchtgegeld beschossen und mit Steinen die Scheiben im Zug eingeschmissen.\u0001\n",
      "11 \tDws an ich alfsnosrts s anmitten einer HDwsnrupe mit dem Zug am Stadion angekommen. Die Einheimischen haben uns mit Geuchtgegeld beschossen und mit Steinen die Scheiben im Zug eingeschmissen.\u0001\n",
      "12 \tDws an ich alfsvossthantenbitten einer HDwsnrupe mit dem Zug am Stadion angekommen. Die Einheimischen haben uns mit Geuchtgegeld beschossen und mit Steinen die Scheiben im Zug eingeschmissen.\u0001\n",
      "13 \tDws an ich altsvosnamt tonkitten einer HDwsnrupe mit dem Zug am Stadion angekommen. Die Einheimischen haben uns mit Geuchtgegeld beschossen und mit Steinen die Scheiben im Zug eingeschmissen.\u0001\n",
      "14 \tDws an ich altsmassaho einbitten einer HDwsnrupe mit dem Zug am Stadion angekommen. Die Einheimischen haben uns mit Geuchtgegeld beschossen und mit Steinen die Scheiben im Zug eingeschmissen.\u0001\n",
      "15 \tDws an ich alfsnosrts s anmitten einer HDwsnrupe mit dem Zug am Stadion angekommen. Die Einheimischen haben uns mit Geuchtgegeld beschossen und mit Steinen die Scheiben im Zug eingeschmissen.\u0001\n",
      "\n",
      "\n",
      "0 \tDws an ich aldsnassas. Henditten einer HDwsnrupe mit dem Zug am Stadion angekommen. Die Einheimischen haben uns mit Geuchtgegeld beschossen und mit Steinen die Scheiben im Zug eingeschmissen.\u0001\n",
      "1 \tDws an ich alfsvornuhte inmitten einer HDwsnrupe mit dem Zug am Stadion angekommen. Die Einheimischen haben uns mit Geuchtgegeld beschossen und mit Steinen die Scheiben im Zug eingeschmissen.\u0001\n",
      "2 \tDws an ich alfszarsphungsnmitten einer HDwsnrupe mit dem Zug am Stadion angekommen. Die Einheimischen haben uns mit Geuchtgegeld beschossen und mit Steinen die Scheiben im Zug eingeschmissen.\u0001\n",
      "3 \tDws an ich aldsnissah flamkitten einer HDwsnrupe mit dem Zug am Stadion angekommen. Die Einheimischen haben uns mit Geuchtgegeld beschossen und mit Steinen die Scheiben im Zug eingeschmissen.\u0001\n",
      "4 \tDws an ich altsvabnthmesinmitten einer HDwsnrupe mit dem Zug am Stadion angekommen. Die Einheimischen haben uns mit Geuchtgegeld beschossen und mit Steinen die Scheiben im Zug eingeschmissen.\u0001\n",
      "5 \tDws an ich alfsnosrts s anmitten einer HDwsnrupe mit dem Zug am Stadion angekommen. Die Einheimischen haben uns mit Geuchtgegeld beschossen und mit Steinen die Scheiben im Zug eingeschmissen.\u0001\n",
      "6 \tDws an ich aldszusnach Scnkitten einer HDwsnrupe mit dem Zug am Stadion angekommen. Die Einheimischen haben uns mit Geuchtgegeld beschossen und mit Steinen die Scheiben im Zug eingeschmissen.\u0001\n",
      "7 \tDws an ich alfsnosrts s anmitten einer HDwsnrupe mit dem Zug am Stadion angekommen. Die Einheimischen haben uns mit Geuchtgegeld beschossen und mit Steinen die Scheiben im Zug eingeschmissen.\u0001\n",
      "8 \tDws an ich aldsnissas Bechkitten einer HDwsnrupe mit dem Zug am Stadion angekommen. Die Einheimischen haben uns mit Geuchtgegeld beschossen und mit Steinen die Scheiben im Zug eingeschmissen.\u0001\n",
      "9 \tDws an ich alfsnosrts s anmitten einer HDwsnrupe mit dem Zug am Stadion angekommen. Die Einheimischen haben uns mit Geuchtgegeld beschossen und mit Steinen die Scheiben im Zug eingeschmissen.\u0001\n",
      "10 \tDws an ich alfsnosrts s anmitten einer HDwsnrupe mit dem Zug am Stadion angekommen. Die Einheimischen haben uns mit Geuchtgegeld beschossen und mit Steinen die Scheiben im Zug eingeschmissen.\u0001\n",
      "11 \tDws an ich alfsnosrts s anmitten einer HDwsnrupe mit dem Zug am Stadion angekommen. Die Einheimischen haben uns mit Geuchtgegeld beschossen und mit Steinen die Scheiben im Zug eingeschmissen.\u0001\n",
      "12 \tDws an ich alfsvossthantenbitten einer HDwsnrupe mit dem Zug am Stadion angekommen. Die Einheimischen haben uns mit Geuchtgegeld beschossen und mit Steinen die Scheiben im Zug eingeschmissen.\u0001\n",
      "13 \tDws an ich altsvosnamt tonkitten einer HDwsnrupe mit dem Zug am Stadion angekommen. Die Einheimischen haben uns mit Geuchtgegeld beschossen und mit Steinen die Scheiben im Zug eingeschmissen.\u0001\n",
      "14 \tDws an ich altsmassaho einbitten einer HDwsnrupe mit dem Zug am Stadion angekommen. Die Einheimischen haben uns mit Geuchtgegeld beschossen und mit Steinen die Scheiben im Zug eingeschmissen.\u0001\n",
      "15 \tDws an ich alfsnosrts s anmitten einer HDwsnrupe mit dem Zug am Stadion angekommen. Die Einheimischen haben uns mit Geuchtgegeld beschossen und mit Steinen die Scheiben im Zug eingeschmissen.\u0001\n",
      "\n",
      "\n",
      "0 \tKanten Wch aldsnassas. Henditten einer HDwsnrupe mit dem Zug am Stadion angekommen. Die Einheimischen haben uns mit Geuchtgegeld beschossen und mit Steinen die Scheiben im Zug eingeschmissen.\u0001\n",
      "1 \tKanten Wch alfsvornuhte inmitten einer HDwsnrupe mit dem Zug am Stadion angekommen. Die Einheimischen haben uns mit Geuchtgegeld beschossen und mit Steinen die Scheiben im Zug eingeschmissen.\u0001\n",
      "2 \tKanten Wch alfszarsphungsnmitten einer HDwsnrupe mit dem Zug am Stadion angekommen. Die Einheimischen haben uns mit Geuchtgegeld beschossen und mit Steinen die Scheiben im Zug eingeschmissen.\u0001\n",
      "3 \tKanten Wch aldsnissah flamkitten einer HDwsnrupe mit dem Zug am Stadion angekommen. Die Einheimischen haben uns mit Geuchtgegeld beschossen und mit Steinen die Scheiben im Zug eingeschmissen.\u0001\n",
      "4 \tKanten Wch altsvabnthmesinmitten einer HDwsnrupe mit dem Zug am Stadion angekommen. Die Einheimischen haben uns mit Geuchtgegeld beschossen und mit Steinen die Scheiben im Zug eingeschmissen.\u0001\n",
      "5 \tKanten Wch alfsnosrts s anmitten einer HDwsnrupe mit dem Zug am Stadion angekommen. Die Einheimischen haben uns mit Geuchtgegeld beschossen und mit Steinen die Scheiben im Zug eingeschmissen.\u0001\n",
      "6 \tKanten Wch aldszusnach Scnkitten einer HDwsnrupe mit dem Zug am Stadion angekommen. Die Einheimischen haben uns mit Geuchtgegeld beschossen und mit Steinen die Scheiben im Zug eingeschmissen.\u0001\n",
      "7 \tKanten Wch alfsnosrts s anmitten einer HDwsnrupe mit dem Zug am Stadion angekommen. Die Einheimischen haben uns mit Geuchtgegeld beschossen und mit Steinen die Scheiben im Zug eingeschmissen.\u0001\n",
      "8 \tKanten Wch aldsnissas Bechkitten einer HDwsnrupe mit dem Zug am Stadion angekommen. Die Einheimischen haben uns mit Geuchtgegeld beschossen und mit Steinen die Scheiben im Zug eingeschmissen.\u0001\n",
      "9 \tKanten Wch alfsnosrts s anmitten einer HDwsnrupe mit dem Zug am Stadion angekommen. Die Einheimischen haben uns mit Geuchtgegeld beschossen und mit Steinen die Scheiben im Zug eingeschmissen.\u0001\n",
      "10 \tKanten Wch alfsnosrts s anmitten einer HDwsnrupe mit dem Zug am Stadion angekommen. Die Einheimischen haben uns mit Geuchtgegeld beschossen und mit Steinen die Scheiben im Zug eingeschmissen.\u0001\n",
      "11 \tKanten Wch alfsnosrts s anmitten einer HDwsnrupe mit dem Zug am Stadion angekommen. Die Einheimischen haben uns mit Geuchtgegeld beschossen und mit Steinen die Scheiben im Zug eingeschmissen.\u0001\n",
      "12 \tKanten Wch alfsvossthantenbitten einer HDwsnrupe mit dem Zug am Stadion angekommen. Die Einheimischen haben uns mit Geuchtgegeld beschossen und mit Steinen die Scheiben im Zug eingeschmissen.\u0001\n",
      "13 \tKanten Wch altsvosnamt tonkitten einer HDwsnrupe mit dem Zug am Stadion angekommen. Die Einheimischen haben uns mit Geuchtgegeld beschossen und mit Steinen die Scheiben im Zug eingeschmissen.\u0001\n",
      "14 \tKanten Wch altsmassaho einbitten einer HDwsnrupe mit dem Zug am Stadion angekommen. Die Einheimischen haben uns mit Geuchtgegeld beschossen und mit Steinen die Scheiben im Zug eingeschmissen.\u0001\n",
      "15 \tKanten Wch alfsnosrts s anmitten einer HDwsnrupe mit dem Zug am Stadion angekommen. Die Einheimischen haben uns mit Geuchtgegeld beschossen und mit Steinen die Scheiben im Zug eingeschmissen.\u0001\n",
      "\n",
      "\n",
      "0 \tIm tan ich aldsnassas. Henditten einer HDwsnrupe mit dem Zug am Stadion angekommen. Die Einheimischen haben uns mit Geuchtgegeld beschossen und mit Steinen die Scheiben im Zug eingeschmissen.\u0001\n",
      "1 \tIm tan ich altsvornuhte inmitten einer HDwsnrupe mit dem Zug am Stadion angekommen. Die Einheimischen haben uns mit Geuchtgegeld beschossen und mit Steinen die Scheiben im Zug eingeschmissen.\u0001\n",
      "2 \tIm tan ich alfszarsphungsnmitten einer HDwsnrupe mit dem Zug am Stadion angekommen. Die Einheimischen haben uns mit Geuchtgegeld beschossen und mit Steinen die Scheiben im Zug eingeschmissen.\u0001\n",
      "3 \tIm tan ich aldsnissah flamkitten einer HDwsnrupe mit dem Zug am Stadion angekommen. Die Einheimischen haben uns mit Geuchtgegeld beschossen und mit Steinen die Scheiben im Zug eingeschmissen.\u0001\n",
      "4 \tIm tan ich altsvabnthmesinmitten einer HDwsnrupe mit dem Zug am Stadion angekommen. Die Einheimischen haben uns mit Geuchtgegeld beschossen und mit Steinen die Scheiben im Zug eingeschmissen.\u0001\n",
      "5 \tIm tan ich alfsnosrts s anmitten einer HDwsnrupe mit dem Zug am Stadion angekommen. Die Einheimischen haben uns mit Geuchtgegeld beschossen und mit Steinen die Scheiben im Zug eingeschmissen.\u0001\n",
      "6 \tIm tan ich altszusnach Scnkitten einer HDwsnrupe mit dem Zug am Stadion angekommen. Die Einheimischen haben uns mit Geuchtgegeld beschossen und mit Steinen die Scheiben im Zug eingeschmissen.\u0001\n",
      "7 \tIm tan ich alfsnosrts s anmitten einer HDwsnrupe mit dem Zug am Stadion angekommen. Die Einheimischen haben uns mit Geuchtgegeld beschossen und mit Steinen die Scheiben im Zug eingeschmissen.\u0001\n",
      "8 \tIm tan ich aldsnissas Bechkitten einer HDwsnrupe mit dem Zug am Stadion angekommen. Die Einheimischen haben uns mit Geuchtgegeld beschossen und mit Steinen die Scheiben im Zug eingeschmissen.\u0001\n",
      "9 \tIm tan ich alfsnosrts s anmitten einer HDwsnrupe mit dem Zug am Stadion angekommen. Die Einheimischen haben uns mit Geuchtgegeld beschossen und mit Steinen die Scheiben im Zug eingeschmissen.\u0001\n",
      "10 \tIm tan ich alfsnosrts s anmitten einer HDwsnrupe mit dem Zug am Stadion angekommen. Die Einheimischen haben uns mit Geuchtgegeld beschossen und mit Steinen die Scheiben im Zug eingeschmissen.\u0001\n",
      "11 \tIm tan ich alfsnosrts s anmitten einer HDwsnrupe mit dem Zug am Stadion angekommen. Die Einheimischen haben uns mit Geuchtgegeld beschossen und mit Steinen die Scheiben im Zug eingeschmissen.\u0001\n",
      "12 \tIm tan ich alfsvossthantenbitten einer HDwsnrupe mit dem Zug am Stadion angekommen. Die Einheimischen haben uns mit Geuchtgegeld beschossen und mit Steinen die Scheiben im Zug eingeschmissen.\u0001\n",
      "13 \tIm tan ich altsvosnamt tonkitten einer HDwsnrupe mit dem Zug am Stadion angekommen. Die Einheimischen haben uns mit Geuchtgegeld beschossen und mit Steinen die Scheiben im Zug eingeschmissen.\u0001\n",
      "14 \tIm tan ich altsmassaho einbitten einer HDwsnrupe mit dem Zug am Stadion angekommen. Die Einheimischen haben uns mit Geuchtgegeld beschossen und mit Steinen die Scheiben im Zug eingeschmissen.\u0001\n",
      "15 \tIm tan ich alfsnosrts s anmitten einer HDwsnrupe mit dem Zug am Stadion angekommen. Die Einheimischen haben uns mit Geuchtgegeld beschossen und mit Steinen die Scheiben im Zug eingeschmissen.\u0001\n",
      "\n",
      "\n",
      "0 \tSo ein Wch aldsnassas. Henditten einer HDwsnrupe mit dem Zug am Stadion angekommen. Die Einheimischen haben uns mit Geuchtgegeld beschossen und mit Steinen die Scheiben im Zug eingeschmissen.\u0001\n",
      "1 \tSo ein Wch alfsvornuhte inmitten einer HDwsnrupe mit dem Zug am Stadion angekommen. Die Einheimischen haben uns mit Geuchtgegeld beschossen und mit Steinen die Scheiben im Zug eingeschmissen.\u0001\n",
      "2 \tSo ein Wch alfszarsphungsnmitten einer HDwsnrupe mit dem Zug am Stadion angekommen. Die Einheimischen haben uns mit Geuchtgegeld beschossen und mit Steinen die Scheiben im Zug eingeschmissen.\u0001\n",
      "3 \tSo ein Wch aldsnissah flamkitten einer HDwsnrupe mit dem Zug am Stadion angekommen. Die Einheimischen haben uns mit Geuchtgegeld beschossen und mit Steinen die Scheiben im Zug eingeschmissen.\u0001\n",
      "4 \tSo ein Wch altsvabnthmesinmitten einer HDwsnrupe mit dem Zug am Stadion angekommen. Die Einheimischen haben uns mit Geuchtgegeld beschossen und mit Steinen die Scheiben im Zug eingeschmissen.\u0001\n",
      "5 \tSo ein Wch alfsnosrts s anmitten einer HDwsnrupe mit dem Zug am Stadion angekommen. Die Einheimischen haben uns mit Geuchtgegeld beschossen und mit Steinen die Scheiben im Zug eingeschmissen.\u0001\n",
      "6 \tSo ein Wch aldszusnach Scnkitten einer HDwsnrupe mit dem Zug am Stadion angekommen. Die Einheimischen haben uns mit Geuchtgegeld beschossen und mit Steinen die Scheiben im Zug eingeschmissen.\u0001\n",
      "7 \tSo ein Wch alfsnosrts s anmitten einer HDwsnrupe mit dem Zug am Stadion angekommen. Die Einheimischen haben uns mit Geuchtgegeld beschossen und mit Steinen die Scheiben im Zug eingeschmissen.\u0001\n",
      "8 \tSo ein Wch aldsnissas Bechkitten einer HDwsnrupe mit dem Zug am Stadion angekommen. Die Einheimischen haben uns mit Geuchtgegeld beschossen und mit Steinen die Scheiben im Zug eingeschmissen.\u0001\n",
      "9 \tSo ein Wch alfsnosrts s anmitten einer HDwsnrupe mit dem Zug am Stadion angekommen. Die Einheimischen haben uns mit Geuchtgegeld beschossen und mit Steinen die Scheiben im Zug eingeschmissen.\u0001\n",
      "10 \tSo ein Wch alfsnosrts s anmitten einer HDwsnrupe mit dem Zug am Stadion angekommen. Die Einheimischen haben uns mit Geuchtgegeld beschossen und mit Steinen die Scheiben im Zug eingeschmissen.\u0001\n",
      "11 \tSo ein Wch alfsnosrts s anmitten einer HDwsnrupe mit dem Zug am Stadion angekommen. Die Einheimischen haben uns mit Geuchtgegeld beschossen und mit Steinen die Scheiben im Zug eingeschmissen.\u0001\n",
      "12 \tSo ein Wch alfsvossthantenbitten einer HDwsnrupe mit dem Zug am Stadion angekommen. Die Einheimischen haben uns mit Geuchtgegeld beschossen und mit Steinen die Scheiben im Zug eingeschmissen.\u0001\n",
      "13 \tSo ein Wch altsvosnamt tonkitten einer HDwsnrupe mit dem Zug am Stadion angekommen. Die Einheimischen haben uns mit Geuchtgegeld beschossen und mit Steinen die Scheiben im Zug eingeschmissen.\u0001\n",
      "14 \tSo ein Wch altsmassaho einbitten einer HDwsnrupe mit dem Zug am Stadion angekommen. Die Einheimischen haben uns mit Geuchtgegeld beschossen und mit Steinen die Scheiben im Zug eingeschmissen.\u0001\n",
      "15 \tSo ein Wch alfsnosrts s anmitten einer HDwsnrupe mit dem Zug am Stadion angekommen. Die Einheimischen haben uns mit Geuchtgegeld beschossen und mit Steinen die Scheiben im Zug eingeschmissen.\u0001\n",
      "\n",
      "\n",
      "0 \tDws an ich aldsnassas. Henditten einer HDwsnrupe mit dem Zug am Stadion angekommen. Die Einheimischen haben uns mit Geuchtgegeld beschossen und mit Steinen die Scheiben im Zug eingeschmissen.\u0001\n",
      "1 \tDws an ich alfsvornuhte inmitten einer HDwsnrupe mit dem Zug am Stadion angekommen. Die Einheimischen haben uns mit Geuchtgegeld beschossen und mit Steinen die Scheiben im Zug eingeschmissen.\u0001\n",
      "2 \tDws an ich alfszarsphungsnmitten einer HDwsnrupe mit dem Zug am Stadion angekommen. Die Einheimischen haben uns mit Geuchtgegeld beschossen und mit Steinen die Scheiben im Zug eingeschmissen.\u0001\n",
      "3 \tDws an ich aldsnissah flamkitten einer HDwsnrupe mit dem Zug am Stadion angekommen. Die Einheimischen haben uns mit Geuchtgegeld beschossen und mit Steinen die Scheiben im Zug eingeschmissen.\u0001\n",
      "4 \tDws an ich altsvabnthmesinmitten einer HDwsnrupe mit dem Zug am Stadion angekommen. Die Einheimischen haben uns mit Geuchtgegeld beschossen und mit Steinen die Scheiben im Zug eingeschmissen.\u0001\n",
      "5 \tDws an ich alfsnosrts s anmitten einer HDwsnrupe mit dem Zug am Stadion angekommen. Die Einheimischen haben uns mit Geuchtgegeld beschossen und mit Steinen die Scheiben im Zug eingeschmissen.\u0001\n",
      "6 \tDws an ich aldszusnach Scnkitten einer HDwsnrupe mit dem Zug am Stadion angekommen. Die Einheimischen haben uns mit Geuchtgegeld beschossen und mit Steinen die Scheiben im Zug eingeschmissen.\u0001\n",
      "7 \tDws an ich alfsnosrts s anmitten einer HDwsnrupe mit dem Zug am Stadion angekommen. Die Einheimischen haben uns mit Geuchtgegeld beschossen und mit Steinen die Scheiben im Zug eingeschmissen.\u0001\n",
      "8 \tDws an ich aldsnissas Bechkitten einer HDwsnrupe mit dem Zug am Stadion angekommen. Die Einheimischen haben uns mit Geuchtgegeld beschossen und mit Steinen die Scheiben im Zug eingeschmissen.\u0001\n",
      "9 \tDws an ich alfsnosrts s anmitten einer HDwsnrupe mit dem Zug am Stadion angekommen. Die Einheimischen haben uns mit Geuchtgegeld beschossen und mit Steinen die Scheiben im Zug eingeschmissen.\u0001\n",
      "10 \tDws an ich alfsnosrts s anmitten einer HDwsnrupe mit dem Zug am Stadion angekommen. Die Einheimischen haben uns mit Geuchtgegeld beschossen und mit Steinen die Scheiben im Zug eingeschmissen.\u0001\n",
      "11 \tDws an ich alfsnosrts s anmitten einer HDwsnrupe mit dem Zug am Stadion angekommen. Die Einheimischen haben uns mit Geuchtgegeld beschossen und mit Steinen die Scheiben im Zug eingeschmissen.\u0001\n",
      "12 \tDws an ich alfsvossthantenbitten einer HDwsnrupe mit dem Zug am Stadion angekommen. Die Einheimischen haben uns mit Geuchtgegeld beschossen und mit Steinen die Scheiben im Zug eingeschmissen.\u0001\n",
      "13 \tDws an ich altsvosnamt tonkitten einer HDwsnrupe mit dem Zug am Stadion angekommen. Die Einheimischen haben uns mit Geuchtgegeld beschossen und mit Steinen die Scheiben im Zug eingeschmissen.\u0001\n",
      "14 \tDws an ich altsmassaho einbitten einer HDwsnrupe mit dem Zug am Stadion angekommen. Die Einheimischen haben uns mit Geuchtgegeld beschossen und mit Steinen die Scheiben im Zug eingeschmissen.\u0001\n",
      "15 \tDws an ich alfsnosrts s anmitten einer HDwsnrupe mit dem Zug am Stadion angekommen. Die Einheimischen haben uns mit Geuchtgegeld beschossen und mit Steinen die Scheiben im Zug eingeschmissen.\u0001\n",
      "\n",
      "\n"
     ]
    }
   ],
   "source": [
    "for i in range(16):\n",
    "    for j in range(16):\n",
    "        latent = latents[0]\n",
    "        latent[0] = i\n",
    "        latent[5] = j\n",
    "        \n",
    "        print(j, '\\t' + latent_to_text(latent.view(1, -1))[0])\n",
    "    print('\\n')"
   ]
  },
  {
   "cell_type": "code",
   "execution_count": null,
   "metadata": {
    "collapsed": false,
    "jupyter": {
     "outputs_hidden": false
    },
    "pycharm": {
     "name": "#%%\n"
    }
   },
   "outputs": [],
   "source": [
    "\n"
   ]
  }
 ],
 "metadata": {
  "kernelspec": {
   "display_name": "Python 3",
   "language": "python",
   "name": "python3"
  },
  "language_info": {
   "codemirror_mode": {
    "name": "ipython",
    "version": 3
   },
   "file_extension": ".py",
   "mimetype": "text/x-python",
   "name": "python",
   "nbconvert_exporter": "python",
   "pygments_lexer": "ipython3",
   "version": "3.7.4"
  },
  "pycharm": {
   "stem_cell": {
    "cell_type": "raw",
    "metadata": {
     "collapsed": false
    },
    "source": [
     "cd ..\n"
    ]
   }
  }
 },
 "nbformat": 4,
 "nbformat_minor": 4
}
