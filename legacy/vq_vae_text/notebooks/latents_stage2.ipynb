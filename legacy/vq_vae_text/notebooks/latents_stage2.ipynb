{
 "cells": [
  {
   "cell_type": "code",
   "execution_count": 1,
   "metadata": {},
   "outputs": [],
   "source": [
    "%load_ext autoreload\n",
    "%autoreload 2"
   ]
  },
  {
   "cell_type": "code",
   "execution_count": 2,
   "metadata": {},
   "outputs": [
    {
     "name": "stdout",
     "output_type": "stream",
     "text": [
      "/home/kris/git/vq_vae_text\n"
     ]
    }
   ],
   "source": [
    "cd .."
   ]
  },
  {
   "cell_type": "code",
   "execution_count": 3,
   "metadata": {},
   "outputs": [],
   "source": [
    "import torch\n",
    "\n",
    "from pathlib import Path\n",
    "from vq_vae_text.datasets import ByteLevelTextDataset"
   ]
  },
  {
   "cell_type": "code",
   "execution_count": 4,
   "metadata": {},
   "outputs": [
    {
     "name": "stdout",
     "output_type": "stream",
     "text": [
      "Using cached file .cache/637093ea5b36dc6cc1652d157897f500e548d98437e30c81e84823aa4ef18265.p\n"
     ]
    }
   ],
   "source": [
    "dataset = ByteLevelTextDataset('/home/kris/data/text/sent-grams/splits/uniform/bigrams/large/train.txt', seq_len=256)\n",
    "dataloader = torch.utils.data.DataLoader(dataset, batch_size=16)"
   ]
  },
  {
   "cell_type": "code",
   "execution_count": 6,
   "metadata": {},
   "outputs": [],
   "source": [
    "model_path = Path('results/2020-04-17_18-12-01-textcnn_vq2/checkpoints/model_0.pth')\n",
    "\n",
    "model = torch.load(model_path).cpu()\n",
    "model.eval();"
   ]
  },
  {
   "cell_type": "code",
   "execution_count": 7,
   "metadata": {},
   "outputs": [],
   "source": [
    "batch = next(iter(dataloader))"
   ]
  },
  {
   "cell_type": "code",
   "execution_count": 8,
   "metadata": {},
   "outputs": [
    {
     "data": {
      "text/plain": [
       "tensor([[ 68,  97,  32,  ...,   0,   0,   0],\n",
       "        [ 65, 117, 115,  ...,   0,   0,   0],\n",
       "        [ 83, 105, 101,  ...,   0,   0,   0],\n",
       "        ...,\n",
       "        [ 65, 108, 115,  ...,   0,   0,   0],\n",
       "        [ 68, 101, 110,  ...,   0,   0,   0],\n",
       "        [ 68, 105, 101,  ...,   0,   0,   0]])"
      ]
     },
     "execution_count": 8,
     "metadata": {},
     "output_type": "execute_result"
    }
   ],
   "source": [
    "batch"
   ]
  },
  {
   "cell_type": "code",
   "execution_count": 9,
   "metadata": {},
   "outputs": [],
   "source": [
    "z, _, codes = model.encode(batch)"
   ]
  },
  {
   "cell_type": "code",
   "execution_count": 14,
   "metadata": {},
   "outputs": [
    {
     "name": "stdout",
     "output_type": "stream",
     "text": [
      "['Da ein ich aus Verbehen itritten einer Landruppe mit Wem Jag am Stadion angekommen. Die Einheimischen haben unt mit weichnhageln beschossen und mit Steiten die Scheiden im Zugieingeschmussen.', 'Ausschliesslich an Entwickter hat SPm einen al. Fei aussa bezeichneten Pranitak ausverieiert. Irite Fests mit weiteren Getaten, die Landan und Fe als heisten sollen, laufen angeblich bereits.', 'Sie liege auf der Mille dessen, was die Maschafe immer gesagt hatten. Es gebe ein eigenstandiges Arbeitsrecht fur die Keicher und die Mitarbeiter wirsten, dass sie sich darit zu halten haben.', 'Die Zahren seien zwar im Jahren der Erwartungen aufgefallen. Allerdings gebe es jeder bei den Ergebnissen nach beim ausblich irgergleuche aussergewohnlichen Uberraschunden, sagte ein Mindler.', 'Die Zahren seien zwar im Jahren der Erwartungen aufgefallen. Allerdings gebe es jeder bei den Ergebnissen nach beim ausblich irgergleuche aussergewohnlichen Uberraschunden, sagte ein Mindler.', 'Hambung verdient besseren als Mintelmatz. Weil die Stadt eine Dettstadt ist, muss auch der Faudientsprechend fur Zostegen und der natarliche Ansprach erhaben werden, ein Spitzenteim zu haben.', 'Fur Kungen von anderen Entrokes, die sich nicht freinillig beteiligen, soll es eine gesitnliche Ausmanklplung geben. Seil Kantwahftrundesamt gibt es zro Jahr dast 2000 ofpizierle beschwerden.', 'Am Dienstag sagten die Veranstarter die Berliner besse ab. Und Saudesten ein Alternatigtorziht aus dem Jeti mit dem man wohnehalat, zumindest den goten Namen der Mermeteranstaltung zu retten.', 'Der indische Politiker Romik Candma falls bei einem Wahlzundgebung in Skiperostadur im zugindischen Uniensstaas Tatis Nahi einem Somtenanschlag zur Opfer. Mit aur sterden weiter, 19 Menschen.', 'In der kunflisse nach Bevankerungswahl fuhlt Rasslann zur Deutschland und Frankreich. Dock im Platternlungsprodalt pil Kold liegt Russland in korletater Stelle unter den 20 Seilnehmerlandern.', 'Bundesborber lassen am Mittwschalend bei Alte wall, um uber ein Problemezu dinkutieren, das nicht zu den fanz grossen Standalen dieser Tage zahlt. Ader gleicht es einem schleichenden Prozers.', 'Das Vilor ist der bedeurengste Ausloser von Indektionen der unseren Bremwege und Krepfenien bei Haumlingen und Fleinlindern. Uber auch bei interen dann es zu schweren Uberleklendelten kommen.', 'Dadurch werden einige Kandenkraule schlicht belastet, wahrend andere als Aufgleich zu stack benaktet werden. Die ersten Samptare dreten erwa zwei bisracht eage nach Kontakt mit dem Verus auf.', 'Als er den Namen von Minas lauder kart, vertraft er sein besicht in den Wanden, Franen winnen zwischen den Einkein Verranters Selbst die Santanz des Gefandtischeht herahugen den Rungen nicht.', 'Den abtahlisten Jahren aus dem Jahr 2010 zufolge waren es weniger als zehn Prozent des Pridaten Zuswert. Doch zahlreichen Gerichten oder Lebersmittelltanhabe scheint sich das jetzt zu andern.', 'Die Schalpflicht will fur alle Kinder und Jugendlichen, seisonterlicht ist in Deutschland nicht zulasseg. Deshalb stellte das Staatliche Schubart im Oktober 2004 Sprokanttag gegen die Eltern.']\n"
     ]
    }
   ],
   "source": [
    "print(decode(codes))"
   ]
  },
  {
   "cell_type": "code",
   "execution_count": 11,
   "metadata": {},
   "outputs": [],
   "source": [
    "def decode_code(codes):\n",
    "    code_a, code_b = codes\n",
    "    \n",
    "    quant_a = model.quantize_a.quantize.embed_code(code_a)\n",
    "    quant_a = quant_a.view(quant_a.size(0), quant_a.size(1) // model.quantize_a.d_slice, -1)\n",
    "    quant_a = quant_a.permute(0, 2, 1)\n",
    "\n",
    "    quant_b = model.quantize_b.quantize.embed_code(code_b)\n",
    "    quant_b = quant_b.view(quant_b.size(0), quant_b.size(1) // model.quantize_b.d_slice, -1)\n",
    "    quant_b = quant_b.permute(0, 2, 1)\n",
    "\n",
    "    dec = model.decode((quant_a, quant_b))\n",
    "\n",
    "    return dec"
   ]
  },
  {
   "cell_type": "code",
   "execution_count": 123,
   "metadata": {},
   "outputs": [],
   "source": [
    "def decode_code(codes):\n",
    "    code_a, code_b = codes\n",
    "    \n",
    "    quant_a = model.quantize_a.embed_code(code_a)\n",
    "    quant_a = quant_a.permute(0, 2, 1)\n",
    "\n",
    "    quant_b = model.quantize_b.embed_code(code_b)\n",
    "    quant_b = quant_b.permute(0, 2, 1)\n",
    "\n",
    "    dec = model.decode((quant_a, quant_b))\n",
    "\n",
    "    return dec"
   ]
  },
  {
   "cell_type": "code",
   "execution_count": 13,
   "metadata": {},
   "outputs": [],
   "source": [
    "def decode(codes):\n",
    "    dec = decode_code(codes).argmax(-1)\n",
    "    return dataset.seq_to_text(dec)"
   ]
  },
  {
   "cell_type": "code",
   "execution_count": 116,
   "metadata": {},
   "outputs": [],
   "source": [
    "def decode_interpol(z_a, z_b, a):\n",
    "    codes = []\n",
    "    for a, b in zip(z_a, z_b):\n",
    "        z = a * (1 - a) + b * a\n",
    "        model.encode"
   ]
  },
  {
   "cell_type": "code",
   "execution_count": 18,
   "metadata": {},
   "outputs": [
    {
     "name": "stdout",
     "output_type": "stream",
     "text": [
      "\n",
      "0.\t Da ein ich aus Vanzigen armieten einer Landruppe mit Wem Jag am Stadion angekommen. Die Einheimischen haben unt mit weichnhageln beschossen und mit Steiten die Scheiden im Zugieingeschmussen.\n",
      "1.\t Da ein ich aus Varzenen armenten einer Landruppe mit Wem Jag am Stadion angekommen. Die Einheimischen haben unt mit weichnhageln beschossen und mit Steiten die Scheiden im Zugieingeschmussen.\n",
      "2.\t Da ein ich aus hinzegen ernieten einer Landruppe mit Wem Jag am Stadion angekommen. Die Einheimischen haben unt mit weichnhageln beschossen und mit Steiten die Scheiden im Zugieingeschmussen.\n",
      "3.\t Da ein ich aus Vorbehen ernieten einer Landruppe mit Wem Jag am Stadion angekommen. Die Einheimischen haben unt mit weichnhageln beschossen und mit Steiten die Scheiden im Zugieingeschmussen.\n",
      "4.\t Da ein ich aus Vorbenen urmetten einer Landruppe mit Wem Jag am Stadion angekommen. Die Einheimischen haben unt mit weichnhageln beschossen und mit Steiten die Scheiden im Zugieingeschmussen.\n",
      "5.\t Da ein ich aus Vorzegen urmieten einer Landruppe mit Wem Jag am Stadion angekommen. Die Einheimischen haben unt mit weichnhageln beschossen und mit Steiten die Scheiden im Zugieingeschmussen.\n",
      "6.\t Da ein ich aus Vorbehen ermeiten einer Landruppe mit Wem Jag am Stadion angekommen. Die Einheimischen haben unt mit weichnhageln beschossen und mit Steiten die Scheiden im Zugieingeschmussen.\n",
      "7.\t Da ein ich aus Verbehen armetten einer Landruppe mit Wem Jag am Stadion angekommen. Die Einheimischen haben unt mit weichnhageln beschossen und mit Steiten die Scheiden im Zugieingeschmussen.\n",
      "8.\t Da ein ich aus Vorbenen urmetten einer Landruppe mit Wem Jag am Stadion angekommen. Die Einheimischen haben unt mit weichnhageln beschossen und mit Steiten die Scheiden im Zugieingeschmussen.\n",
      "9.\t Da ein ich aus Vanzehen urminten einer Landruppe mit Wem Jag am Stadion angekommen. Die Einheimischen haben unt mit weichnhageln beschossen und mit Steiten die Scheiden im Zugieingeschmussen.\n",
      "\n",
      "10.\t Da ein ich aus Verbehen armenten einer Landruppe mit Wem Jag am Stadion angekommen. Die Einheimischen haben unt mit weichnhageln beschossen und mit Steiten die Scheiden im Zugieingeschmussen.\n",
      "11.\t Da ein ich aus Verbehen armeiten einer Landruppe mit Wem Jag am Stadion angekommen. Die Einheimischen haben unt mit weichnhageln beschossen und mit Steiten die Scheiden im Zugieingeschmussen.\n",
      "12.\t Da ein ich aus Varzenen armenten einer Landruppe mit Wem Jag am Stadion angekommen. Die Einheimischen haben unt mit weichnhageln beschossen und mit Steiten die Scheiden im Zugieingeschmussen.\n",
      "13.\t Da ein ich aus Verbehen erminten einer Landruppe mit Wem Jag am Stadion angekommen. Die Einheimischen haben unt mit weichnhageln beschossen und mit Steiten die Scheiden im Zugieingeschmussen.\n",
      "14.\t Da ein ich aus Vorzigen ermeiten einer Landruppe mit Wem Jag am Stadion angekommen. Die Einheimischen haben unt mit weichnhageln beschossen und mit Steiten die Scheiden im Zugieingeschmussen.\n",
      "15.\t Da ein ich aus Verweien urminten einer Landruppe mit Wem Jag am Stadion angekommen. Die Einheimischen haben unt mit weichnhageln beschossen und mit Steiten die Scheiden im Zugieingeschmussen.\n",
      "16.\t Da ein ich aus Vorzeien itrieten einer Landruppe mit Wem Jag am Stadion angekommen. Die Einheimischen haben unt mit weichnhageln beschossen und mit Steiten die Scheiden im Zugieingeschmussen.\n",
      "17.\t Da ein ich aus Varzenen urmieten einer Landruppe mit Wem Jag am Stadion angekommen. Die Einheimischen haben unt mit weichnhageln beschossen und mit Steiten die Scheiden im Zugieingeschmussen.\n",
      "18.\t Da ein ich aus Verbehen urmetten einer Landruppe mit Wem Jag am Stadion angekommen. Die Einheimischen haben unt mit weichnhageln beschossen und mit Steiten die Scheiden im Zugieingeschmussen.\n",
      "19.\t Da ein ich aus Varzenen armeiten einer Landruppe mit Wem Jag am Stadion angekommen. Die Einheimischen haben unt mit weichnhageln beschossen und mit Steiten die Scheiden im Zugieingeschmussen.\n",
      "\n",
      "20.\t Da ein ich aus Verbenen armieten einer Landruppe mit Wem Jag am Stadion angekommen. Die Einheimischen haben unt mit weichnhageln beschossen und mit Steiten die Scheiden im Zugieingeschmussen.\n",
      "21.\t Da ein ich aus Verbenen urminten einer Landruppe mit Wem Jag am Stadion angekommen. Die Einheimischen haben unt mit weichnhageln beschossen und mit Steiten die Scheiden im Zugieingeschmussen.\n",
      "22.\t Da ein ich aus Vorbehen urmetten einer Landruppe mit Wem Jag am Stadion angekommen. Die Einheimischen haben unt mit weichnhageln beschossen und mit Steiten die Scheiden im Zugieingeschmussen.\n",
      "23.\t Da ein ich aus Verwegen itrieten einer Landruppe mit Wem Jag am Stadion angekommen. Die Einheimischen haben unt mit weichnhageln beschossen und mit Steiten die Scheiden im Zugieingeschmussen.\n",
      "24.\t Da ein ich aus Vorbehen armetten einer Landruppe mit Wem Jag am Stadion angekommen. Die Einheimischen haben unt mit weichnhageln beschossen und mit Steiten die Scheiden im Zugieingeschmussen.\n",
      "25.\t Da ein ich aus Vorbehen armieten einer Landruppe mit Wem Jag am Stadion angekommen. Die Einheimischen haben unt mit weichnhageln beschossen und mit Steiten die Scheiden im Zugieingeschmussen.\n",
      "26.\t Da ein ich aus hanzenen armenten einer Landruppe mit Wem Jag am Stadion angekommen. Die Einheimischen haben unt mit weichnhageln beschossen und mit Steiten die Scheiden im Zugieingeschmussen.\n",
      "27.\t Da ein ich aus hinzigen ernitten einer Landruppe mit Wem Jag am Stadion angekommen. Die Einheimischen haben unt mit weichnhageln beschossen und mit Steiten die Scheiden im Zugieingeschmussen.\n",
      "28.\t Da ein ich aus Vanzehen itrinten einer Landruppe mit Wem Jag am Stadion angekommen. Die Einheimischen haben unt mit weichnhageln beschossen und mit Steiten die Scheiden im Zugieingeschmussen.\n",
      "29.\t Da ein ich aus Vorbenen urmetten einer Landruppe mit Wem Jag am Stadion angekommen. Die Einheimischen haben unt mit weichnhageln beschossen und mit Steiten die Scheiden im Zugieingeschmussen.\n",
      "\n",
      "30.\t Da ein ich aus Vorbenen armetten einer Landruppe mit Wem Jag am Stadion angekommen. Die Einheimischen haben unt mit weichnhageln beschossen und mit Steiten die Scheiden im Zugieingeschmussen.\n",
      "31.\t Da ein ich aus Varzehen armetten einer Landruppe mit Wem Jag am Stadion angekommen. Die Einheimischen haben unt mit weichnhageln beschossen und mit Steiten die Scheiden im Zugieingeschmussen.\n",
      "32.\t Da ein ich aus Vorbehen armenten einer Landruppe mit Wem Jag am Stadion angekommen. Die Einheimischen haben unt mit weichnhageln beschossen und mit Steiten die Scheiden im Zugieingeschmussen.\n",
      "33.\t Da ein ich aus hitzeien urmieten einer Landruppe mit Wem Jag am Stadion angekommen. Die Einheimischen haben unt mit weichnhageln beschossen und mit Steiten die Scheiden im Zugieingeschmussen.\n",
      "34.\t Da ein ich aus Verweien armenten einer Landruppe mit Wem Jag am Stadion angekommen. Die Einheimischen haben unt mit weichnhageln beschossen und mit Steiten die Scheiden im Zugieingeschmussen.\n",
      "35.\t Da ein ich aus Vorzeien erminten einer Landruppe mit Wem Jag am Stadion angekommen. Die Einheimischen haben unt mit weichnhageln beschossen und mit Steiten die Scheiden im Zugieingeschmussen.\n",
      "36.\t Da ein ich aus hanzigen ernitten einer Landruppe mit Wem Jag am Stadion angekommen. Die Einheimischen haben unt mit weichnhageln beschossen und mit Steiten die Scheiden im Zugieingeschmussen.\n",
      "37.\t Da ein ich aus Varzenen armetten einer Landruppe mit Wem Jag am Stadion angekommen. Die Einheimischen haben unt mit weichnhageln beschossen und mit Steiten die Scheiden im Zugieingeschmussen.\n",
      "38.\t Da ein ich aus Vorbenen armenten einer Landruppe mit Wem Jag am Stadion angekommen. Die Einheimischen haben unt mit weichnhageln beschossen und mit Steiten die Scheiden im Zugieingeschmussen.\n",
      "39.\t Da ein ich aus Vorzeren urmetten einer Landruppe mit Wem Jag am Stadion angekommen. Die Einheimischen haben unt mit weichnhageln beschossen und mit Steiten die Scheiden im Zugieingeschmussen.\n",
      "\n",
      "40.\t Da ein ich aus Vorbehen urmeiten einer Landruppe mit Wem Jag am Stadion angekommen. Die Einheimischen haben unt mit weichnhageln beschossen und mit Steiten die Scheiden im Zugieingeschmussen.\n",
      "41.\t Da ein ich aus Varzeten ernitten einer Landruppe mit Wem Jag am Stadion angekommen. Die Einheimischen haben unt mit weichnhageln beschossen und mit Steiten die Scheiden im Zugieingeschmussen.\n",
      "42.\t Da ein ich aus hanzigen arminten einer Landruppe mit Wem Jag am Stadion angekommen. Die Einheimischen haben unt mit weichnhageln beschossen und mit Steiten die Scheiden im Zugieingeschmussen.\n",
      "43.\t Da ein ich aus Verwegen urmieten einer Landruppe mit Wem Jag am Stadion angekommen. Die Einheimischen haben unt mit weichnhageln beschossen und mit Steiten die Scheiden im Zugieingeschmussen.\n",
      "44.\t Da ein ich aus hinzeten erminten einer Landruppe mit Wem Jag am Stadion angekommen. Die Einheimischen haben unt mit weichnhageln beschossen und mit Steiten die Scheiden im Zugieingeschmussen.\n",
      "45.\t Da ein ich aus Vorbenen urmetten einer Landruppe mit Wem Jag am Stadion angekommen. Die Einheimischen haben unt mit weichnhageln beschossen und mit Steiten die Scheiden im Zugieingeschmussen.\n",
      "46.\t Da ein ich aus Vorbenen urmetten einer Landruppe mit Wem Jag am Stadion angekommen. Die Einheimischen haben unt mit weichnhageln beschossen und mit Steiten die Scheiden im Zugieingeschmussen.\n",
      "47.\t Da ein ich aus Verbenen itritten einer Landruppe mit Wem Jag am Stadion angekommen. Die Einheimischen haben unt mit weichnhageln beschossen und mit Steiten die Scheiden im Zugieingeschmussen.\n",
      "48.\t Da ein ich aus Vorbenen armetten einer Landruppe mit Wem Jag am Stadion angekommen. Die Einheimischen haben unt mit weichnhageln beschossen und mit Steiten die Scheiden im Zugieingeschmussen.\n",
      "49.\t Da ein ich aus Vorbenen urmetten einer Landruppe mit Wem Jag am Stadion angekommen. Die Einheimischen haben unt mit weichnhageln beschossen und mit Steiten die Scheiden im Zugieingeschmussen.\n",
      "\n",
      "50.\t Da ein ich aus Varzeten urmieten einer Landruppe mit Wem Jag am Stadion angekommen. Die Einheimischen haben unt mit weichnhageln beschossen und mit Steiten die Scheiden im Zugieingeschmussen.\n",
      "51.\t Da ein ich aus Verbenen itreiten einer Landruppe mit Wem Jag am Stadion angekommen. Die Einheimischen haben unt mit weichnhageln beschossen und mit Steiten die Scheiden im Zugieingeschmussen.\n",
      "52.\t Da ein ich aus hitzeien itrieten einer Landruppe mit Wem Jag am Stadion angekommen. Die Einheimischen haben unt mit weichnhageln beschossen und mit Steiten die Scheiden im Zugieingeschmussen.\n",
      "53.\t Da ein ich aus Vorzegen urmeiten einer Landruppe mit Wem Jag am Stadion angekommen. Die Einheimischen haben unt mit weichnhageln beschossen und mit Steiten die Scheiden im Zugieingeschmussen.\n",
      "54.\t Da ein ich aus Vanzehen armenten einer Landruppe mit Wem Jag am Stadion angekommen. Die Einheimischen haben unt mit weichnhageln beschossen und mit Steiten die Scheiden im Zugieingeschmussen.\n",
      "55.\t Da ein ich aus Vanzigen urmetten einer Landruppe mit Wem Jag am Stadion angekommen. Die Einheimischen haben unt mit weichnhageln beschossen und mit Steiten die Scheiden im Zugieingeschmussen.\n",
      "56.\t Da ein ich aus Verbeien itrieten einer Landruppe mit Wem Jag am Stadion angekommen. Die Einheimischen haben unt mit weichnhageln beschossen und mit Steiten die Scheiden im Zugieingeschmussen.\n",
      "57.\t Da ein ich aus Vorbenen itrinten einer Landruppe mit Wem Jag am Stadion angekommen. Die Einheimischen haben unt mit weichnhageln beschossen und mit Steiten die Scheiden im Zugieingeschmussen.\n",
      "58.\t Da ein ich aus Vorbenen urmetten einer Landruppe mit Wem Jag am Stadion angekommen. Die Einheimischen haben unt mit weichnhageln beschossen und mit Steiten die Scheiden im Zugieingeschmussen.\n",
      "59.\t Da ein ich aus Varzenen armetten einer Landruppe mit Wem Jag am Stadion angekommen. Die Einheimischen haben unt mit weichnhageln beschossen und mit Steiten die Scheiden im Zugieingeschmussen.\n",
      "\n",
      "60.\t Da ein ich aus hinzehen armieten einer Landruppe mit Wem Jag am Stadion angekommen. Die Einheimischen haben unt mit weichnhageln beschossen und mit Steiten die Scheiden im Zugieingeschmussen.\n",
      "61.\t Da ein ich aus Vanzeten ermeiten einer Landruppe mit Wem Jag am Stadion angekommen. Die Einheimischen haben unt mit weichnhageln beschossen und mit Steiten die Scheiden im Zugieingeschmussen.\n",
      "62.\t Da ein ich aus Vorbenen armenten einer Landruppe mit Wem Jag am Stadion angekommen. Die Einheimischen haben unt mit weichnhageln beschossen und mit Steiten die Scheiden im Zugieingeschmussen.\n",
      "63.\t Da ein ich aus Verbenen armetten einer Landruppe mit Wem Jag am Stadion angekommen. Die Einheimischen haben unt mit weichnhageln beschossen und mit Steiten die Scheiden im Zugieingeschmussen.\n"
     ]
    }
   ],
   "source": [
    "z, _, codes = model.encode(batch)\n",
    "\n",
    "for i in range(64):\n",
    "    codes[1][:, 1] = i\n",
    "    #codes[1][:, 10] = i % 10\n",
    "    \n",
    "    if i % 10 == 0:\n",
    "        print()\n",
    "    \n",
    "    print(f'{i}.\\t', decode(codes)[0])"
   ]
  },
  {
   "cell_type": "code",
   "execution_count": null,
   "metadata": {},
   "outputs": [],
   "source": []
  }
 ],
 "metadata": {
  "kernelspec": {
   "display_name": "Python 3",
   "language": "python",
   "name": "python3"
  },
  "language_info": {
   "codemirror_mode": {
    "name": "ipython",
    "version": 3
   },
   "file_extension": ".py",
   "mimetype": "text/x-python",
   "name": "python",
   "nbconvert_exporter": "python",
   "pygments_lexer": "ipython3",
   "version": "3.7.4"
  }
 },
 "nbformat": 4,
 "nbformat_minor": 4
}
